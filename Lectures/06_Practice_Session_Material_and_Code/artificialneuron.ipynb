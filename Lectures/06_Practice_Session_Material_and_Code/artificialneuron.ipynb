{
 "cells": [
  {
   "cell_type": "markdown",
   "id": "2e403f9d",
   "metadata": {},
   "source": [
    "# Artificial Neuron: Pytorch, Linear Regression and Binary Classification"
   ]
  },
  {
   "cell_type": "markdown",
   "id": "87787b28",
   "metadata": {},
   "source": [
    "## 1 Introduction"
   ]
  },
  {
   "cell_type": "markdown",
   "id": "3800dbf5",
   "metadata": {},
   "source": [
    "This jupyter notebook guides you through the process of programming and training an artificial neuron using a python package called pytorch (https://pytorch.org/). Pytorch is a well-known and widely used framework to realize artificial neural networks in python. While a single artificial neuron can also be implemented using various more general frameworks like numpy or even python base libraries, pytorch will be used in this notebook to make you familiar with some of its basic concepts, which you will also need in subsequent, more complex practical sessions. \n",
    "\n",
    "In addition to programming an aritificial neuron, this notebook also presents two simple applications, which represent the two basic problems that can be solved by single aritifical neurons: linear regression and binary classification.\n",
    "Hence, this notebook serves as a basic introduction to pytorch while simoultaneously deeping your understanding of the artificial neuron and its typical applications which were presented in the corresponding lecture. \n",
    "\n",
    "The notebook does not specify explicit tasks for you to do, instead it repeats some concepts from the lecture and helps you to transfer your new knowledge to application. Furthermore, it includes a lot of code snippets and parameters (which are always printed in UPPERCASE letters) that you can use, change, and play around with to better understand the artificial neuron, its application, and python implementations. Please feel free to experiment with this notebook. In case you break something you can always go back to moodle and retrieve the orginal version! "
   ]
  },
  {
   "cell_type": "markdown",
   "id": "3d025ae0",
   "metadata": {},
   "source": [
    "## 1.1 General Idea"
   ]
  },
  {
   "cell_type": "markdown",
   "id": "6560d1e0",
   "metadata": {},
   "source": [
    "The general structure of this notebook contains the following parts:\n",
    "\n",
    "    1. Introduction\n",
    "        - Introduction, structure and imports \n",
    "        \n",
    "    2. Data Generation and Visualization\n",
    "        - Generation and visualization of sample data for linear regression and binary classification\n",
    "        \n",
    "    3. The Aritifical Neuron\n",
    "        - Implementation of a general artificial neuron class using pytorch\n",
    "    \n",
    "    4. Linear Regression\n",
    "        - Application of the aritifical neuron to the linear regression problem from section 2\n",
    "        \n",
    "    5. Binary classification\n",
    "        - Application of the aritifical neuron to the binary classification problem from section 2"
   ]
  },
  {
   "cell_type": "markdown",
   "id": "b0fc96f3",
   "metadata": {},
   "source": [
    "## 1.2 Imports"
   ]
  },
  {
   "cell_type": "code",
   "execution_count": 2,
   "id": "8c24a598",
   "metadata": {},
   "outputs": [
    {
     "ename": "ModuleNotFoundError",
     "evalue": "No module named 'numpy'",
     "output_type": "error",
     "traceback": [
      "\u001b[1;31m---------------------------------------------------------------------------\u001b[0m",
      "\u001b[1;31mModuleNotFoundError\u001b[0m                       Traceback (most recent call last)",
      "Cell \u001b[1;32mIn[2], line 2\u001b[0m\n\u001b[0;32m      1\u001b[0m \u001b[39m# General data handling\u001b[39;00m\n\u001b[1;32m----> 2\u001b[0m \u001b[39mimport\u001b[39;00m \u001b[39mnumpy\u001b[39;00m \u001b[39mas\u001b[39;00m \u001b[39mnp\u001b[39;00m\n\u001b[0;32m      4\u001b[0m \u001b[39m# Pytorch\u001b[39;00m\n\u001b[0;32m      5\u001b[0m \u001b[39mimport\u001b[39;00m \u001b[39mtorch\u001b[39;00m \u001b[39m# torch is the alias for pytorch \u001b[39;00m\n",
      "\u001b[1;31mModuleNotFoundError\u001b[0m: No module named 'numpy'"
     ]
    },
    {
     "ename": "",
     "evalue": "",
     "output_type": "error",
     "traceback": [
      "\u001b[1;31mThe Kernel crashed while executing code in the the current cell or a previous cell. Please review the code in the cell(s) to identify a possible cause of the failure. Click <a href='https://aka.ms/vscodeJupyterKernelCrash'>here</a> for more info. View Jupyter <a href='command:jupyter.viewOutput'>log</a> for further details."
     ]
    }
   ],
   "source": [
    "# General data handling\n",
    "import numpy as np\n",
    "\n",
    "# Pytorch\n",
    "import torch # torch is the alias for pytorch \n",
    "\n",
    "# Some plotting libraries \n",
    "import matplotlib.pyplot as plt\n",
    "from mpl_toolkits.mplot3d import Axes3D\n",
    "\n",
    "# A package for randomization\n",
    "import random # Used to generate artificially noised data"
   ]
  },
  {
   "cell_type": "markdown",
   "id": "deb7fb7c",
   "metadata": {},
   "source": [
    "## 2 Data Generation and Visualization"
   ]
  },
  {
   "cell_type": "markdown",
   "id": "e356249e",
   "metadata": {},
   "source": [
    "A sample data set for linear regression and binary classification is created in the following subsections. Section 2.1 deals with a data set for linear regression, whereas section 2.3 is dedicated to the creation of a binary classification data set. Both data sets are visualized in order to facilitate understanding of the problem domain (sections 2.2 and 2.3 respectively).  "
   ]
  },
  {
   "cell_type": "markdown",
   "id": "8acaa079",
   "metadata": {},
   "source": [
    "### 2.1 Data Generation - Linear Regression"
   ]
  },
  {
   "cell_type": "markdown",
   "id": "ec5a9f93",
   "metadata": {},
   "source": [
    "In the following code block, an artificial dataset for linear regression is generated. Feel free to fiddle with the generation parameters in order to generate different datasets and observe how changes in the input data affect the outcome of the linear regression later on."
   ]
  },
  {
   "cell_type": "code",
   "execution_count": null,
   "id": "5b416545",
   "metadata": {},
   "outputs": [
    {
     "ename": "",
     "evalue": "",
     "output_type": "error",
     "traceback": [
      "\u001b[1;31mFailed to start the Kernel. \n",
      "\u001b[1;31mBad file descriptor (C:\\projects\\libzmq\\src\\epoll.cpp:100). \n",
      "\u001b[1;31mView Jupyter <a href='command:jupyter.viewOutput'>log</a> for further details."
     ]
    }
   ],
   "source": [
    "# Options for coefficients defining the original plane in which the training data lies\n",
    "PLANE_COEFF_1 = -2\n",
    "PLANE_COEFF_2 = -4\n",
    "PLANE_COEFF_3 = 3\n",
    "\n",
    "# Noise Amplitude\n",
    "NOISE_AMP = 2\n",
    "\n",
    "# Generate data in 3 dimensions that can be approximated by a plane\n",
    "x1_data, x2_data = np.meshgrid(np.linspace(-5, 5, 6), np.linspace(-5, 5, 6))\n",
    "y_hat_data = PLANE_COEFF_1 * x1_data + PLANE_COEFF_2 * x2_data + PLANE_COEFF_3\n",
    "\n",
    "# Add noise to data\n",
    "for i, value in np.ndenumerate(y_hat_data):\n",
    "    y_hat_data[i] = value + random.uniform(-5,5)\n",
    "\n",
    "# Vectorize x1, x2 and y_hat\n",
    "x1_data = x1_data.flatten()\n",
    "x2_data = x2_data.flatten()\n",
    "y_hat_data = y_hat_data.flatten()\n",
    "\n",
    "# Create Pytorch tensor\n",
    "X_lin_reg = torch.zeros(len(x1_data),2, dtype=torch.float64)\n",
    "X_lin_reg[:,0] = torch.tensor(x1_data)\n",
    "X_lin_reg[:,1] = torch.tensor(x2_data)\n",
    "y_hat_lin_reg = torch.tensor(y_hat_data)\n",
    "\n",
    "# Remove temporary variables\n",
    "del x1_data, x2_data, y_hat_data"
   ]
  },
  {
   "cell_type": "markdown",
   "id": "9f968b39",
   "metadata": {},
   "source": [
    "### 2.2 Data Visualization - Linear Regression"
   ]
  },
  {
   "cell_type": "markdown",
   "id": "1e686b03",
   "metadata": {},
   "source": [
    "Before we go on to solve the regression task, a quick look at the regression dataset helps to understand the problem better. The following figure is a 3D figure of the problem space. You can rotate it using your mouse (drag while holding the left mouse button)"
   ]
  },
  {
   "cell_type": "code",
   "execution_count": null,
   "id": "0e477a54",
   "metadata": {},
   "outputs": [
    {
     "ename": "",
     "evalue": "",
     "output_type": "error",
     "traceback": [
      "\u001b[1;31mFailed to start the Kernel. \n",
      "\u001b[1;31mBad file descriptor (C:\\projects\\libzmq\\src\\epoll.cpp:100). \n",
      "\u001b[1;31mView Jupyter <a href='command:jupyter.viewOutput'>log</a> for further details."
     ]
    }
   ],
   "source": [
    "%matplotlib notebook\n",
    "# Plot the artificial dataset\n",
    "\n",
    "fig = plt.figure()\n",
    "ax = fig.add_subplot(111, projection='3d')\n",
    "ax.plot(X_lin_reg[:,0], X_lin_reg[:,1], y_hat_lin_reg, 'bo ')\n",
    "ax.set_xlabel('x1')\n",
    "ax.set_ylabel('x2')\n",
    "ax.set_zlabel('x3 / y_hat')\n",
    "\n",
    "plt.show()"
   ]
  },
  {
   "cell_type": "markdown",
   "id": "c413cc6a",
   "metadata": {},
   "source": [
    "As you can see from the figure, the sample data set contains data points that are roughly orientated along the plane that was used in Section 2.2. But even if we did not know that the data came from a plane that we defined explicitly, a look at the data reveals, that there is some kind of linear relationship between the x1, x2 and x3 coordinates of the data set.  To analyse this connection and hopefully find (or in this case reconstruct) a function x3 = f(x1, x2) is a regression task that can potentially be solved using linear regression. "
   ]
  },
  {
   "cell_type": "markdown",
   "id": "0eff72ca",
   "metadata": {},
   "source": [
    "### 2.3 Data Generation - Binary Classification"
   ]
  },
  {
   "cell_type": "markdown",
   "id": "25ee78f2",
   "metadata": {},
   "source": [
    "Analog to the previous section, artificial training data for binary classification is generated. \n",
    "\n",
    "The training data is noisy and does contain two different groups or classes that can be linearly separated. Thus, the classes can potentially be discriminated by a binary classification approach using a single artificial neuron."
   ]
  },
  {
   "cell_type": "code",
   "execution_count": null,
   "id": "c2d87495",
   "metadata": {},
   "outputs": [
    {
     "ename": "",
     "evalue": "",
     "output_type": "error",
     "traceback": [
      "\u001b[1;31mFailed to start the Kernel. \n",
      "\u001b[1;31mBad file descriptor (C:\\projects\\libzmq\\src\\epoll.cpp:100). \n",
      "\u001b[1;31mView Jupyter <a href='command:jupyter.viewOutput'>log</a> for further details."
     ]
    }
   ],
   "source": [
    "# Data Generation Options\n",
    "N_GROUP1 = 50 # Number of data points in group 1\n",
    "N_GROUP2 = 50 # Number of data points in group 1\n",
    "\n",
    "X1_BOUNDS_GROUP1 = [3, 5] # coordinate bounds for group 1\n",
    "X2_BOUNDS_GROUP1 = [3, 5]\n",
    "X3_BOUNDS_GROUP1 = [3, 5]\n",
    "\n",
    "X1_BOUNDS_GROUP2 = [0, 2] # coordinate bounds for group 2\n",
    "X2_BOUNDS_GROUP2 = [0, 2]\n",
    "X3_BOUNDS_GROUP2 = [0, 2]\n",
    "\n",
    "# Helper function to scale data to an interval [min, max]\n",
    "def mapminmax(x, min, max):\n",
    "\n",
    "    min_x = x.min()\n",
    "    max_x = x.max()\n",
    "    range_x = max_x-min_x\n",
    "\n",
    "    return ((x-min_x)/(range_x))*(max-min)+min\n",
    "\n",
    "# Define x1, x2, x3 datasets for two different groups of data\n",
    "x1_group1_data = np.random.rand(N_GROUP1) # Generate random values between 0 and 1 for each dimension for group 1\n",
    "x2_group1_data = np.random.rand(N_GROUP1)\n",
    "x3_group1_data = np.random.rand(N_GROUP1)\n",
    "\n",
    "x1_group2_data = np.random.rand(N_GROUP2) # Generate random values between 0 and 1 for each dimension for group 2\n",
    "x2_group2_data = np.random.rand(N_GROUP2)\n",
    "x3_group2_data = np.random.rand(N_GROUP2)\n",
    "\n",
    "x1_group1_data = mapminmax(x1_group1_data, X1_BOUNDS_GROUP1[0], X1_BOUNDS_GROUP1[1]) # Scale each dimension group 1\n",
    "x2_group1_data = mapminmax(x2_group1_data, X2_BOUNDS_GROUP1[0], X2_BOUNDS_GROUP1[1])\n",
    "x3_group1_data = mapminmax(x3_group1_data, X3_BOUNDS_GROUP1[0], X3_BOUNDS_GROUP1[1])\n",
    "\n",
    "x1_group2_data = mapminmax(x1_group2_data, X1_BOUNDS_GROUP2[0], X1_BOUNDS_GROUP2[1]) # Scale each dimension group 2\n",
    "x2_group2_data = mapminmax(x2_group2_data, X2_BOUNDS_GROUP2[0], X2_BOUNDS_GROUP2[1])\n",
    "x3_group2_data = mapminmax(x3_group2_data, X3_BOUNDS_GROUP2[0], X3_BOUNDS_GROUP2[1])\n",
    "\n",
    "# Define class label datasets for group 1 and 2\n",
    "labels_group1_data = np.ones(N_GROUP1)\n",
    "labels_group2_data = np.zeros(N_GROUP2)\n",
    "\n",
    "# Join datasets to form one big input dataset for the artificial neuron\n",
    "x1_data = np.concatenate((x1_group1_data, x1_group2_data))\n",
    "x2_data = np.concatenate((x2_group1_data,x2_group2_data))\n",
    "x3_data = np.concatenate((x3_group1_data, x3_group2_data))\n",
    "labels_data = np.concatenate((labels_group1_data, labels_group2_data))\n",
    "\n",
    "# Create pytorch tensors\n",
    "X_bin_class = torch.zeros(len(x1_data),3, dtype=torch.float64)\n",
    "X_bin_class[:,0] = torch.tensor(x1_data)\n",
    "X_bin_class[:,1] = torch.tensor(x2_data)\n",
    "X_bin_class[:,2] = torch.tensor(x3_data)\n",
    "labels_bin_class = torch.tensor(labels_data)\n",
    "\n",
    "# Remove temporary variables\n",
    "del x1_group1_data, x2_group1_data, x3_group1_data, x1_group2_data, x2_group2_data, x3_group2_data, labels_group1_data, labels_group2_data, x1_data, x2_data, x3_data, labels_data"
   ]
  },
  {
   "cell_type": "markdown",
   "id": "ca7e535d",
   "metadata": {},
   "source": [
    "### 2.4 Data Visualization - Binary Classification"
   ]
  },
  {
   "cell_type": "markdown",
   "id": "02163ba9",
   "metadata": {},
   "source": [
    "Again, a visualization of the data set helps to understand the problem domain better. Once more you can rotate the figure."
   ]
  },
  {
   "cell_type": "code",
   "execution_count": null,
   "id": "534d32a7",
   "metadata": {},
   "outputs": [
    {
     "ename": "",
     "evalue": "",
     "output_type": "error",
     "traceback": [
      "\u001b[1;31mFailed to start the Kernel. \n",
      "\u001b[1;31mBad file descriptor (C:\\projects\\libzmq\\src\\epoll.cpp:100). \n",
      "\u001b[1;31mView Jupyter <a href='command:jupyter.viewOutput'>log</a> for further details."
     ]
    }
   ],
   "source": [
    "# Plot resulting clusters\n",
    "%matplotlib notebook\n",
    "fig = plt.figure()\n",
    "ax = fig.add_subplot(111, projection='3d')\n",
    "ax.plot(X_bin_class[:N_GROUP1,0], X_bin_class[:N_GROUP1,1], X_bin_class[:N_GROUP1,2], 'bo ')\n",
    "ax.plot(X_bin_class[N_GROUP1:,0], X_bin_class[N_GROUP1:,1], X_bin_class[N_GROUP1:,2], 'ro')\n",
    "ax.set_xlabel('x1')\n",
    "ax.set_ylabel('x2')\n",
    "ax.set_zlabel('x3')"
   ]
  },
  {
   "cell_type": "markdown",
   "id": "7965c1b7",
   "metadata": {},
   "source": [
    "The plot clearly shows two different classes of data in the data set. For each point of the input dataset, the input variables $x_1$, $x_2$, and $x_3$ are known. Furthermore, the labels data set, which is equivalent to $\\hat{y}$, contains a clear labeling of the data point as either 0 or 1, depending on the class/cluster the data point stems from. To distinguish the two classes visually, the figure plots all labels 0 as blue dots and all labels 1 as red dots. \n",
    "\n",
    "Finding a classifier, which assigns the correct label (0 or 1) to points of this data set is a binary classification problem, since two classes that are potentially separable by a linear function shall be distinguished. Hence, solving this problem implicetely includes the construction of a linear separation (a plane) of the two data clouds.  "
   ]
  },
  {
   "cell_type": "markdown",
   "id": "286e4fbd",
   "metadata": {},
   "source": [
    "## 3 The Artificial Neuron"
   ]
  },
  {
   "cell_type": "markdown",
   "id": "11b317ab",
   "metadata": {},
   "source": [
    "From the lecture corresponding to this notebook, you are familiar with linear regression and binary classification, which can both be solved by means of just one single artificial neuron. \n",
    "\n",
    "To solve the problems presented in Section 2, an artificial neuron shall be used. Before implementing such a neuron using python and pytorch, consider the following general descriptions of an artificial neuron (formula and computational graph). "
   ]
  },
  {
   "attachments": {
    "GeneralArtificialNeuronFunction.png": {
     "image/png": "[encoded data removed]"
    }
   },
   "cell_type": "markdown",
   "id": "c82e1780",
   "metadata": {},
   "source": [
    "![GeneralArtificialNeuronFunction.png](attachment:GeneralArtificialNeuronFunction.png)"
   ]
  },
  {
   "attachments": {
    "GeneralArtificialNeuron.png": {
     "image/png": "[encoded data removed]"
    }
   },
   "cell_type": "markdown",
   "id": "db17d549",
   "metadata": {},
   "source": [
    "![GeneralArtificialNeuron.png](attachment:GeneralArtificialNeuron.png)"
   ]
  },
  {
   "cell_type": "markdown",
   "id": "1ce52d87",
   "metadata": {},
   "source": [
    "As you can see from both the formula and the computational graph, a general aritifical neuron comprises of multiple inputs ($x_1$ to $x_n$), which are multiplied with their corresponding weights ($w_1$ to $w_n$) as well as of a bias $b$ that is added to the sum of the weighted inputs, and finally an activation function $f$ that transforms the weighted sum into some neuron output $y$. \n",
    "\n",
    "From the lecture, you are also familiar with the concept of gradient descent, which can be used to update weights and biases of an artificial neuron in order to train the neuron to match expected outputs $\\hat{y}$ on a training data set.\n",
    "For this training process, the gradient of a loss Function $L$ has to be determined with respect to the weights and bias of the neuron.\n",
    "\n",
    "The following code snippet implements an \"ArtificialNeuron\" class in python based on the above considerations and the following requirements: \n",
    "\n",
    "- The neuron shall be variable in terms of the number of inputs \n",
    "- The activation function of the neuron needs to be flexible such that different functions (e.g. linear, sigmoid, ..) can be realized\n",
    "- A forward path or prediction has to be implemented based on the given formula\n",
    "- Training of the neuron: \n",
    "    - .. shall be possible using gradient descent\n",
    "    - .. is to be based on a customizable loss function\n",
    "    - .. should return the loss of the current training step"
   ]
  },
  {
   "cell_type": "code",
   "execution_count": null,
   "id": "953df5ec",
   "metadata": {},
   "outputs": [
    {
     "ename": "",
     "evalue": "",
     "output_type": "error",
     "traceback": [
      "\u001b[1;31mFailed to start the Kernel. \n",
      "\u001b[1;31mBad file descriptor (C:\\projects\\libzmq\\src\\epoll.cpp:100). \n",
      "\u001b[1;31mView Jupyter <a href='command:jupyter.viewOutput'>log</a> for further details."
     ]
    }
   ],
   "source": [
    "# Define the artificial neuron class including a gradient descent training process\n",
    "class ArtificialNeuron:\n",
    "\n",
    "    \"\"\"Initialization of the Neuron.\n",
    "\n",
    "    Parameters\n",
    "    ----------\n",
    "    \n",
    "    num_features : int\n",
    "        The number of inputs/input features of the neuron (n)\n",
    "    act_func : callable\n",
    "        The activation function f (e.g. sigmoid, linear, ...)\n",
    "    grad_act_func : callable\n",
    "        The gradient of the activation function with respect to its input (the weighted sum)\n",
    "    loss_func : callable\n",
    "        The loss function\n",
    "    grad_loss_func : callable\n",
    "        The gradient of the loss function with respect to y (dL/dy=f(y, y_hat))\n",
    "    \n",
    "    \"\"\"\n",
    "    def __init__(self, num_features, act_func, grad_act_func, loss_func, grad_loss_func):\n",
    "        \n",
    "        # Define number of inputs\n",
    "        self.num_features = num_features\n",
    "        \n",
    "        # Initialize weights and bias as ones    \n",
    "        self.weights = torch.ones(num_features, 1, dtype=torch.float64)\n",
    "        self.bias = torch.ones(1, dtype=torch.float64)\n",
    "        \n",
    "        # Loss function\n",
    "        self.loss_func = loss_func \n",
    "        self.grad_loss_func = grad_loss_func\n",
    "        \n",
    "        # Activation function\n",
    "        self.act_func = act_func\n",
    "        self.grad_act_func = grad_act_func\n",
    "    \n",
    "    \n",
    "    \n",
    "    \"\"\"Return the weighted sum of inputs and bias.\n",
    "\n",
    "    Parameters\n",
    "    ----------\n",
    "    \n",
    "    x : torch.Tensor\n",
    "        (Pytorch) Tensor containing the inputs\n",
    "    \n",
    "    Returns\n",
    "    -------\n",
    "    torch.Tensor\n",
    "        (Pytorch) Tensor containing the weighted sum\n",
    "    \n",
    "    \"\"\"\n",
    "    def weightedSum(self, x):\n",
    "        # Multiply weights bei inputs and add bias. @ is short for .matmul()\n",
    "        return x @ self.weights + self.bias\n",
    "    \n",
    "    \n",
    "    \n",
    "    \"\"\"Forward path through the artificial neuron.\n",
    "\n",
    "    Parameters\n",
    "    ----------\n",
    "    \n",
    "    x : torch.Tensor\n",
    "        (Pytorch) Tensor containing the inputs\n",
    "    \n",
    "    Returns\n",
    "    -------\n",
    "    torch.Tensor\n",
    "        (Pytorch) Tensor containing the neuron's activation\n",
    "    \n",
    "    \"\"\"\n",
    "    def forward(self, x):\n",
    "        return self.act_func(self.weightedSum(x))\n",
    "    \n",
    "    \n",
    "    \n",
    "    \"\"\"Prediction using the artificial neuron. Alias for self.forward(x)\n",
    "\n",
    "    Parameters\n",
    "    ----------\n",
    "    \n",
    "    x : torch.Tensor\n",
    "        (Pytorch) Tensor containing the inputs\n",
    "    \n",
    "    Returns\n",
    "    -------\n",
    "    torch.Tensor\n",
    "        (Pytorch) Tensor containing the neuron's activation\n",
    "    \n",
    "    \"\"\"\n",
    "    def predict(self, x):\n",
    "        return self.forward(x)\n",
    "    \n",
    "    \n",
    "    \n",
    "    \"\"\"Calculate the components of the gradient of L (dL/dw_i and dL/db) in preparation for gradient descent\n",
    "\n",
    "    Parameters\n",
    "    ----------\n",
    "    \n",
    "    x : torch.Tensor\n",
    "        (Pytorch) Tensor containing the inputs\n",
    "    y_hat : torch.Tensor\n",
    "        (Pytorch) Tensor containing the inputs\n",
    "    \n",
    "    Returns\n",
    "    -------\n",
    "    torch.Tensor\n",
    "        (Pytorch) Tensor containing the components of dL/dw_i\n",
    "        \n",
    "    torch.Tensor\n",
    "        (Pytorch) Tensor containing dL/db\n",
    "    \n",
    "    \"\"\"\n",
    "    def gradL(self, x, y_hat):\n",
    "        \n",
    "        weightedSum = self.weightedSum(x)\n",
    "        y = self.act_func(weightedSum)\n",
    "    \n",
    "        grad_loss = self.grad_loss_func(y, y_hat)\n",
    "        \n",
    "        # For further explanations regarding this formula consult the lecture slides!\n",
    "        return self.grad_act_func(weightedSum) * grad_loss * x, self.grad_act_func(weightedSum) * grad_loss * 1\n",
    "\n",
    "    \n",
    "    \"\"\"Update weights and bias of the neuron using gradient descent\n",
    "\n",
    "    Parameters\n",
    "    ----------\n",
    "    \n",
    "    gradL_w : torch.Tensor\n",
    "        (Pytorch) Tensor containing the components of dL/dw_i\n",
    "    gradL_b : torch.Tensor\n",
    "        (Pytorch) Tensor containing dL/db\n",
    "    alpha : float\n",
    "        The learning rate\n",
    "    \n",
    "    \"\"\"\n",
    "    # update: \n",
    "    def update(self, gradL_w, gradL_b, alpha):\n",
    "        self.weights = self.weights - alpha * gradL_w.reshape(self.num_features, 1)\n",
    "        self.bias = self.bias - alpha * gradL_b\n",
    "\n",
    "    \n",
    "    \n",
    "    \"\"\"Perform one training step using a training sample (x, y_hat) to update weights and bias\n",
    "\n",
    "    Parameters\n",
    "    ----------\n",
    "    \n",
    "    x : torch.Tensor\n",
    "        (Pytorch) Tensor containing the inputs\n",
    "    y_hat : torch.Tensor\n",
    "        (Pytorch) Tensor containing the expected output x_hat\n",
    "    alpha : float\n",
    "        The learning rate\n",
    "        \n",
    "    Returns\n",
    "    -------\n",
    "    torch.Tensor\n",
    "        (Pytorch) Tensor containing the training loss for this sample after weight and bias update\n",
    "    \n",
    "    \"\"\"\n",
    "    def train(self, x, y_hat, alpha):\n",
    "        \n",
    "        # Calculate gradient\n",
    "        gradL_w, gradL_b = self.gradL(x, y_hat)\n",
    "        \n",
    "        # Update weights and bias using gradient descent\n",
    "        self.update(gradL_w, gradL_b, alpha)\n",
    "        \n",
    "        # Determine loss after weight/bias update\n",
    "        loss = self.loss_func(self.forward(x), y_hat)\n",
    "        \n",
    "        return loss"
   ]
  },
  {
   "cell_type": "markdown",
   "id": "5787ed77",
   "metadata": {},
   "source": [
    "Make sure you understand the implementation of the aritifical neuron and its training routine before proceeding."
   ]
  },
  {
   "cell_type": "markdown",
   "id": "761177f0",
   "metadata": {},
   "source": [
    "## 4 Linear Regression"
   ]
  },
  {
   "cell_type": "markdown",
   "id": "ea8147e9",
   "metadata": {},
   "source": [
    "In the following, an instance of the ArtificalNeuron class is used to solve the linear regression problem known from Section 2.1/2.2. \n",
    "\n",
    "First of all, a suitable activation function for linear regression as well as a loss function for the training process have to be defined. \n",
    "\n",
    "As known from the lecture, we can use a simple identity function $f(in)=in$ for linear regression problems. Its derivative, which is used for the calculation of the gradient of $L$ during the training process is $df/din = 1$.\n",
    "\n",
    "While there are many different possible loss functions we will use the already familiar version $L = 0.5\\cdot(y-\\hat{y})^2$ since its derivative $dL/dy$ takes the very elegant form $dL/dy = y-\\hat{y}=\\Delta y$"
   ]
  },
  {
   "cell_type": "code",
   "execution_count": null,
   "id": "cb9ebe41",
   "metadata": {},
   "outputs": [
    {
     "ename": "",
     "evalue": "",
     "output_type": "error",
     "traceback": [
      "\u001b[1;31mFailed to start the Kernel. \n",
      "\u001b[1;31mBad file descriptor (C:\\projects\\libzmq\\src\\epoll.cpp:100). \n",
      "\u001b[1;31mView Jupyter <a href='command:jupyter.viewOutput'>log</a> for further details."
     ]
    }
   ],
   "source": [
    "lin_act_func = lambda x: x\n",
    "lin_grad_act_func = lambda x: 1\n",
    "\n",
    "loss = lambda y, y_hat: 0.5*(y-y_hat)**2\n",
    "grad_loss = lambda y, y_hat: y-y_hat"
   ]
  },
  {
   "cell_type": "markdown",
   "id": "baef6f35",
   "metadata": {},
   "source": [
    "With the loss and activation function at hand, an artificial neuron instance can easily be set up. Sections 2.1 and 2.2 clearly described the problem as a linear regression problem with two input features $x_1$ and $x_2$ and one regression variable $x_3$. Hence, two inputs to the artificial neuron are needed. "
   ]
  },
  {
   "cell_type": "code",
   "execution_count": null,
   "id": "286aa42f",
   "metadata": {},
   "outputs": [
    {
     "ename": "",
     "evalue": "",
     "output_type": "error",
     "traceback": [
      "\u001b[1;31mFailed to start the Kernel. \n",
      "\u001b[1;31mBad file descriptor (C:\\projects\\libzmq\\src\\epoll.cpp:100). \n",
      "\u001b[1;31mView Jupyter <a href='command:jupyter.viewOutput'>log</a> for further details."
     ]
    }
   ],
   "source": [
    "# Create neuron\n",
    "neuron = ArtificialNeuron(2, lin_act_func, lin_grad_act_func, loss, grad_loss)"
   ]
  },
  {
   "cell_type": "markdown",
   "id": "cf2d5f77",
   "metadata": {},
   "source": [
    "Now the neuron can be trained using the training data. Please be aware that we would usually split the available data set into a training, a test, and a validation data set. Since this notebook serves to show the basics however, we will use all available data for training. Do not do this in real applications because it fosters overfitting and you will have no means to judge the quality of the training!  \n",
    "\n",
    "In order to track the training progress, the training loss is recorded and printed later on."
   ]
  },
  {
   "cell_type": "code",
   "execution_count": null,
   "id": "9f429060",
   "metadata": {},
   "outputs": [
    {
     "ename": "",
     "evalue": "",
     "output_type": "error",
     "traceback": [
      "\u001b[1;31mFailed to start the Kernel. \n",
      "\u001b[1;31mBad file descriptor (C:\\projects\\libzmq\\src\\epoll.cpp:100). \n",
      "\u001b[1;31mView Jupyter <a href='command:jupyter.viewOutput'>log</a> for further details."
     ]
    }
   ],
   "source": [
    "# Options\n",
    "N_EPOCHS = 20\n",
    "\n",
    "# Train neuron and track losses\n",
    "epoch_list = list(range(0,N_EPOCHS))\n",
    "loss_history = []\n",
    "\n",
    "for e in epoch_list:\n",
    "    losses = []\n",
    "    for i, x in enumerate(X_lin_reg):\n",
    "        losses.append(neuron.train(x, y_hat_lin_reg[i], 0.001))\n",
    "    loss_history.append(sum(losses)/len(losses))\n",
    "\n",
    "fig = plt.figure()\n",
    "plt.plot(epoch_list, loss_history)\n",
    "plt.xlabel(\"Epoch\")\n",
    "plt.ylabel(\"Mean Loss\")"
   ]
  },
  {
   "cell_type": "markdown",
   "id": "153a240e",
   "metadata": {},
   "source": [
    "The training loss gives a strong indication of the convergence of the training. For the default parameters given in this notebook, a convergence of the training loss can be observed indicating a successful training of the neuron on the training data set. \n",
    "\n",
    "The following code snippet visualizes the result of the neuron training by plotting a regression plane based on the obtained neuron weights and bias."
   ]
  },
  {
   "cell_type": "code",
   "execution_count": null,
   "id": "db62908d",
   "metadata": {},
   "outputs": [
    {
     "ename": "",
     "evalue": "",
     "output_type": "error",
     "traceback": [
      "\u001b[1;31mFailed to start the Kernel. \n",
      "\u001b[1;31mBad file descriptor (C:\\projects\\libzmq\\src\\epoll.cpp:100). \n",
      "\u001b[1;31mView Jupyter <a href='command:jupyter.viewOutput'>log</a> for further details."
     ]
    }
   ],
   "source": [
    "%matplotlib notebook\n",
    "# Calculated regression values\n",
    "regression_y = neuron.weights[0] * X_lin_reg[:,0].reshape((6,6)) + neuron.weights[1] *  X_lin_reg[:,1].reshape((6,6)) + neuron.bias\n",
    "\n",
    "# Plot regression result\n",
    "fig = plt.figure()\n",
    "ax = fig.add_subplot(111, projection='3d')\n",
    "ax.plot(X_lin_reg[:,0], X_lin_reg[:,1], y_hat_lin_reg, 'bo ')\n",
    "ax.plot_trisurf(X_lin_reg[:,0], X_lin_reg[:,1], regression_y.flatten(), color = 'r', cmap=None)\n",
    "\n",
    "ax.set_xlabel('x1')\n",
    "ax.set_ylabel('x2')\n",
    "ax.set_zlabel('x3 / y / y_hat')\n",
    "\n",
    "plt.show()"
   ]
  },
  {
   "cell_type": "markdown",
   "id": "b8008ae1",
   "metadata": {},
   "source": [
    "If the training was successful, you will see that the regression plane fits the data points neatly. Since we generated the noisy training data from a perfect plane in the first place we can also directly compare our results by comparing the neuron weights with the plane coefficients that we used in Section 2 to generate the data. In case of a successful training there should be only small differences between the generating plane and the trained plane.\n",
    "\n",
    "To convince yourself that the training actually works you may want to reinitialize the neuron again and plot the regression plane without training the neuron first. You will see that the regression plane does not fit the data points well. You can also train the neuron with different learning rates, more or less epochs or different initializations of the neuron's weights and bias. For each setup, observe the differences in the training outcomes."
   ]
  },
  {
   "cell_type": "code",
   "execution_count": null,
   "id": "86d23fcc",
   "metadata": {},
   "outputs": [
    {
     "ename": "",
     "evalue": "",
     "output_type": "error",
     "traceback": [
      "\u001b[1;31mFailed to start the Kernel. \n",
      "\u001b[1;31mBad file descriptor (C:\\projects\\libzmq\\src\\epoll.cpp:100). \n",
      "\u001b[1;31mView Jupyter <a href='command:jupyter.viewOutput'>log</a> for further details."
     ]
    }
   ],
   "source": [
    "# Comparing original data coefficients and trained weights / biases\n",
    "print(\"Original Coefficients : \")\n",
    "print(\"coeff1 = \", PLANE_COEFF_1)\n",
    "print(\"coeff2 = \", PLANE_COEFF_2)\n",
    "print(\"coeff3 = \", PLANE_COEFF_3)\n",
    "\n",
    "print(\"\\nTrained weights / bias : \")\n",
    "print(\"w1 = \", neuron.weights[0])\n",
    "print(\"w2 = \", neuron.weights[1])\n",
    "print(\"b = \", neuron.bias)"
   ]
  },
  {
   "cell_type": "markdown",
   "id": "4c08f0da",
   "metadata": {},
   "source": [
    "## 5 Binary Classification"
   ]
  },
  {
   "cell_type": "markdown",
   "id": "0d1cbc5a",
   "metadata": {},
   "source": [
    "In addition to linear regression, single artificial neurons can be applied to binary classification problems. A binary classification problem for testing purposes has been outlined in Sections 2.3 and 2.4. \n",
    "This activation problem shall now be solved using another instance of our \"AritificalNeuron\" class. \n",
    "\n",
    "Again, a suitable activation function has to be defined. Note that we will keep the loss function from the linear regression example.\n",
    "\n",
    "As known from the lecture, we can use a sigmoid activation function $\\sigma(in)=1/(1+exp(-in))$ for classification purposes. Again, we also have to define the gradient of our activation function, which can be expressed as $d\\sigma(in)/din=\\sigma(in)\\cdot(1-\\sigma(in))$."
   ]
  },
  {
   "cell_type": "code",
   "execution_count": null,
   "id": "082a995a",
   "metadata": {},
   "outputs": [
    {
     "ename": "",
     "evalue": "",
     "output_type": "error",
     "traceback": [
      "\u001b[1;31mFailed to start the Kernel. \n",
      "\u001b[1;31mBad file descriptor (C:\\projects\\libzmq\\src\\epoll.cpp:100). \n",
      "\u001b[1;31mView Jupyter <a href='command:jupyter.viewOutput'>log</a> for further details."
     ]
    }
   ],
   "source": [
    "# Define activation function\n",
    "sigmoid = torch.nn.Sigmoid()\n",
    "grad_sigmoid = lambda x: sigmoid(x)*(1-sigmoid(x))"
   ]
  },
  {
   "cell_type": "markdown",
   "id": "ad0d088e",
   "metadata": {},
   "source": [
    "With the loss and activation function at hand, an artificial neuron instance can easily be set up. Sections 2.3 and 2.4 clearly described the problem as a binary classification problem with three input features $x_1$, $x_2$, and $x_3$. For each data point a corresponding class label is available. Hence, three inputs to the artificial neuron are needed. "
   ]
  },
  {
   "cell_type": "code",
   "execution_count": null,
   "id": "0d4a8f3a",
   "metadata": {},
   "outputs": [
    {
     "ename": "",
     "evalue": "",
     "output_type": "error",
     "traceback": [
      "\u001b[1;31mFailed to start the Kernel. \n",
      "\u001b[1;31mBad file descriptor (C:\\projects\\libzmq\\src\\epoll.cpp:100). \n",
      "\u001b[1;31mView Jupyter <a href='command:jupyter.viewOutput'>log</a> for further details."
     ]
    }
   ],
   "source": [
    "# Create neuron\n",
    "neuron = ArtificialNeuron(3, sigmoid, grad_sigmoid, loss, grad_loss)"
   ]
  },
  {
   "cell_type": "markdown",
   "id": "fd5e7777",
   "metadata": {},
   "source": [
    "The neuron can now be trained using the training data. Again, in contrast to best practices in real applications, no test or validation data set is generated for the sake of simplicity. \n",
    "\n",
    "In order to track the training progress, the training loss is recorded and printed later on. Once more, you are invited to play around with the number of epochs and have a look at the training process and outcome. You can also manipulate the training data set in Section 2.3. "
   ]
  },
  {
   "cell_type": "code",
   "execution_count": null,
   "id": "776fabfd",
   "metadata": {},
   "outputs": [
    {
     "ename": "",
     "evalue": "",
     "output_type": "error",
     "traceback": [
      "\u001b[1;31mFailed to start the Kernel. \n",
      "\u001b[1;31mBad file descriptor (C:\\projects\\libzmq\\src\\epoll.cpp:100). \n",
      "\u001b[1;31mView Jupyter <a href='command:jupyter.viewOutput'>log</a> for further details."
     ]
    }
   ],
   "source": [
    "# Options\n",
    "N_EPOCHS = 300\n",
    "\n",
    "# Train neuron and track losses\n",
    "epoch_list = list(range(0,N_EPOCHS))\n",
    "loss_history = []\n",
    "\n",
    "for e in epoch_list:\n",
    "    print(\"Training epoch {} of {}\".format(e+1, N_EPOCHS))\n",
    "    losses = []\n",
    "    for i, x in enumerate(X_bin_class):\n",
    "        losses.append(neuron.train(x, labels_bin_class[i], 0.01))\n",
    "    loss_history.append(sum(losses)/len(losses))"
   ]
  },
  {
   "cell_type": "markdown",
   "id": "1769c06a",
   "metadata": {},
   "source": [
    "Below, the loss history is plotted. Observe how it converges with a growing number of epochs. "
   ]
  },
  {
   "cell_type": "code",
   "execution_count": null,
   "id": "c08fa406",
   "metadata": {},
   "outputs": [
    {
     "ename": "",
     "evalue": "",
     "output_type": "error",
     "traceback": [
      "\u001b[1;31mFailed to start the Kernel. \n",
      "\u001b[1;31mBad file descriptor (C:\\projects\\libzmq\\src\\epoll.cpp:100). \n",
      "\u001b[1;31mView Jupyter <a href='command:jupyter.viewOutput'>log</a> for further details."
     ]
    }
   ],
   "source": [
    "fig = plt.figure()\n",
    "plt.plot(epoch_list, loss_history)\n",
    "plt.xlabel(\"Epoch\")\n",
    "plt.ylabel(\"Mean Loss\")"
   ]
  },
  {
   "cell_type": "markdown",
   "id": "8f2cfaa9",
   "metadata": {},
   "source": [
    "The purpose of a classifier neuron is to give clear indications of the class a data point belongs to. This is why we used a sigmoid activation function with its very steep gradient around 0 and its asymptotic behavior towards 0 and 1. Nevertheless, it is always interesting to see where the neuron would actually be undecided between the two extreme outputs 0 and 1. For this example, a separating plane can be extracted from the neurons weights by searching for all points that would be classified as exactly in between the two classes (y=0.5).  This plane gives us an idea of the quality of separation between the classes (similar to SVM). It is plotted below. By going back and reintializing the neuron, you can also plot the initial plane of separation before training. Furthermore, you can test out different data set sizes or training lengths (epochs) to observe how the seperation plane is adjusted during the training process. "
   ]
  },
  {
   "cell_type": "code",
   "execution_count": null,
   "id": "5817b524",
   "metadata": {},
   "outputs": [
    {
     "ename": "",
     "evalue": "",
     "output_type": "error",
     "traceback": [
      "\u001b[1;31mFailed to start the Kernel. \n",
      "\u001b[1;31mBad file descriptor (C:\\projects\\libzmq\\src\\epoll.cpp:100). \n",
      "\u001b[1;31mView Jupyter <a href='command:jupyter.viewOutput'>log</a> for further details."
     ]
    }
   ],
   "source": [
    "%matplotlib notebook\n",
    "plt.close()\n",
    "fig = plt.figure()\n",
    "ax = fig.add_subplot(111, projection='3d')\n",
    "ax.plot(X_bin_class[:N_GROUP1,0], X_bin_class[:N_GROUP1,1], X_bin_class[:N_GROUP1,2], 'bo ')\n",
    "ax.plot(X_bin_class[N_GROUP1:,0], X_bin_class[N_GROUP1:,1], X_bin_class[N_GROUP1:,2], 'ro')\n",
    "\n",
    "# Plotting the class separating plane generated by the artifical neuron\n",
    "surf_x1, surf_x2 = np.meshgrid(np.linspace(0, 5, 51), np.linspace(0, 5, 51))\n",
    "surf_x3 = (0.5 - neuron.weights[0]*surf_x1.flatten() - neuron.weights[1] * surf_x2.flatten() - neuron.bias) / neuron.weights[2]\n",
    "ax.plot_trisurf(surf_x1.flatten(), surf_x2.flatten(), surf_x3)\n",
    "\n",
    "ax.set_xlabel('x1')\n",
    "ax.set_ylabel('x2')\n",
    "ax.set_zlabel('x3')"
   ]
  },
  {
   "cell_type": "markdown",
   "id": "5d4a4096",
   "metadata": {},
   "source": [
    "Finally, the trained neuron can be used to classify the data points. Since the first half of the data set comes from class 1 and the second half of the training data set belongs to class 0, we expect the output of the neuron to be close to 1 for the first half of the sample and close to 0 for the second half. "
   ]
  },
  {
   "cell_type": "code",
   "execution_count": null,
   "id": "7baa605b",
   "metadata": {},
   "outputs": [
    {
     "ename": "",
     "evalue": "",
     "output_type": "error",
     "traceback": [
      "\u001b[1;31mFailed to start the Kernel. \n",
      "\u001b[1;31mBad file descriptor (C:\\projects\\libzmq\\src\\epoll.cpp:100). \n",
      "\u001b[1;31mView Jupyter <a href='command:jupyter.viewOutput'>log</a> for further details."
     ]
    }
   ],
   "source": [
    "for x in X_bin_class: \n",
    "    print(neuron.predict(x))"
   ]
  }
 ],
 "metadata": {
  "kernelspec": {
   "display_name": "Python 3.9.10 64-bit",
   "language": "python",
   "name": "python3"
  },
  "language_info": {
   "codemirror_mode": {
    "name": "ipython",
    "version": 3
   },
   "file_extension": ".py",
   "mimetype": "text/x-python",
   "name": "python",
   "nbconvert_exporter": "python",
   "pygments_lexer": "ipython3",
   "version": "3.9.10"
  },
  "vscode": {
   "interpreter": {
    "hash": "a365b4fc245fee436f3b5a525da65a4a10e61ad1552f702df658d4e783d372a1"
   }
  }
 },
 "nbformat": 4,
 "nbformat_minor": 5
}
