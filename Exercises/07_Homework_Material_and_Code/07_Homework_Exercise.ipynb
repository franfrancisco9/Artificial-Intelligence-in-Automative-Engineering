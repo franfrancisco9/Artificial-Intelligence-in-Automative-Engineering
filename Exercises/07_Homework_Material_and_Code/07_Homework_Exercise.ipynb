{
 "cells": [
  {
   "cell_type": "markdown",
   "id": "669a3c57",
   "metadata": {},
   "source": [
    "# Homework: Chapter 7 - Deep Learning\n",
    "\n",
    "In the following exercise you have to construct the architecture of the neural network. To do that we will construct the object of the class `Network` that has to have following 2 methods: `__init__()` constructor and `forward()` method that will perform the forward pass.\n",
    "\n",
    "Your tasks are the following:\n",
    "\n",
    "1. Extend the existing `__init__` constructor that will create the network structure that can fit the following requirements:\n",
    "    - Input Layer: `28x28` px image Data (Hint: Don't forget to flatten the input data, i.e. fit the input dimension requirement)\n",
    "    - Hidden Layer 1: Number of neurons -> `256`\n",
    "    - Hidden Layer 2: Number of neurons -> `128`\n",
    "    - Hidden Layer 3: Number of neurons -> `32`\n",
    "    - Output Layer: Number of neurons -> `1`\n",
    "    \n",
    "    \n",
    "2. Extend the existing `forward()` method that will apply the following activation functions between the given layers:\n",
    "    - Hidden Layer 1: ReLU\n",
    "    - Hidden Layer 2: ReLU\n",
    "    - Hidden Layer 3: ReLU\n",
    "    - Output Layer: Sigmoid"
   ]
  },
  {
   "cell_type": "code",
   "execution_count": 5,
   "id": "1c9c859f",
   "metadata": {},
   "outputs": [],
   "source": [
    "import torch\n",
    "import torch.nn as nn\n",
    "import torch.nn.functional as F\n",
    "\n",
    "class Network(nn.Module):\n",
    "\n",
    "    def __init__(self):\n",
    "        super().__init__()\n",
    "        \n",
    "        # MAKE YOUR CHANGES HERE:\n",
    "        # 28x28 input image\n",
    "        # Flatten the image \n",
    "        # Layer 1: 256 neurons\n",
    "        # Layer 2: 128 neurons\n",
    "        # Layer 3: 32 neurons\n",
    "        # Output: 1 neuron\n",
    "\n",
    "        self.fc1 = nn.Linear(28*28, 256)\n",
    "        self.fc2 = nn.Linear(256, 128)\n",
    "        self.fc3 = nn.Linear(128, 32)\n",
    "        self.fc4 = nn.Linear(32, 1)\n",
    "\n",
    "        # STOP WITH CHANGES HERE.\n",
    "        \n",
    "    def forward(self, x):\n",
    "        \n",
    "        # MAKE YOUR CHANGES HERE:\n",
    "        # Hidden 1: RELU activation\n",
    "        # Hidden 2: RELU activation\n",
    "        # Hidden 3: RELU activation\n",
    "        # Output: Sigmoid activation\n",
    "\n",
    "        x = x.view(x.shape[0], -1)\n",
    "        x = F.relu(self.fc1(x))\n",
    "        x = F.relu(self.fc2(x))\n",
    "        x = F.relu(self.fc3(x))\n",
    "        x = torch.sigmoid(self.fc4(x))\n",
    "        \n",
    "        # STOP WITH CHANGES HERE.\n",
    "        \n",
    "        return x"
   ]
  },
  {
   "cell_type": "code",
   "execution_count": 6,
   "id": "ab6e0c50",
   "metadata": {},
   "outputs": [
    {
     "name": "stdout",
     "output_type": "stream",
     "text": [
      "Network(\n",
      "  (fc1): Linear(in_features=784, out_features=256, bias=True)\n",
      "  (fc2): Linear(in_features=256, out_features=128, bias=True)\n",
      "  (fc3): Linear(in_features=128, out_features=32, bias=True)\n",
      "  (fc4): Linear(in_features=32, out_features=1, bias=True)\n",
      ")\n"
     ]
    }
   ],
   "source": [
    "# DO NOT CHANGE ANYTHING HERE.\n",
    "torch.manual_seed(7)\n",
    "KI_net = Network()\n",
    "print(KI_net)\n",
    "network_input = torch.rand((1, 1, 28, 28))\n",
    "network_output = KI_net(network_input)"
   ]
  },
  {
   "cell_type": "code",
   "execution_count": 7,
   "id": "fab93eca",
   "metadata": {},
   "outputs": [
    {
     "name": "stdout",
     "output_type": "stream",
     "text": [
      "tensor([[0.4574]], grad_fn=<SigmoidBackward0>)\n"
     ]
    }
   ],
   "source": [
    "# DO NOT CHANGE ANYTHING HERE.\n",
    "# Your final result will be displayed here\n",
    "print(network_output)"
   ]
  }
 ],
 "metadata": {
  "kernelspec": {
   "display_name": "Python 3",
   "language": "python",
   "name": "python3"
  },
  "language_info": {
   "codemirror_mode": {
    "name": "ipython",
    "version": 3
   },
   "file_extension": ".py",
   "mimetype": "text/x-python",
   "name": "python",
   "nbconvert_exporter": "python",
   "pygments_lexer": "ipython3",
   "version": "3.10.9 (tags/v3.10.9:1dd9be6, Dec  6 2022, 20:01:21) [MSC v.1934 64 bit (AMD64)]"
  },
  "vscode": {
   "interpreter": {
    "hash": "9aff9e50adfaa9e30c910fb3872ffdc72747acb5f50803ca0504f00e980f7c25"
   }
  }
 },
 "nbformat": 4,
 "nbformat_minor": 5
}
