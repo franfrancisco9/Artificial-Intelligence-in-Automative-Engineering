{
 "cells": [
  {
   "cell_type": "markdown",
   "id": "c45fe754",
   "metadata": {},
   "source": [
    "# Homework 1 - Question 3: Python Basics"
   ]
  },
  {
   "cell_type": "markdown",
   "id": "957b23b7",
   "metadata": {},
   "source": [
    "Moodle Homework 1, Question 3:\n",
    "Below are the implementations of four basic functions. In the homework questionnaire on moodle are four possible function inputs and responding outputs given. Use the implementations to assign the correct input-output pair to the corresponding function name."
   ]
  },
  {
   "cell_type": "code",
   "execution_count": 5,
   "id": "4bc8aa98",
   "metadata": {},
   "outputs": [
    {
     "name": "stdout",
     "output_type": "stream",
     "text": [
      "3\n"
     ]
    }
   ],
   "source": [
    "def functionA(n):\n",
    "    return abs(n)\n",
    "print(functionA(-3))\n",
    "# functionA() -- you can call the function with the given input parameter from the homework to check your answers"
   ]
  },
  {
   "cell_type": "code",
   "execution_count": 6,
   "id": "17c0828a",
   "metadata": {},
   "outputs": [
    {
     "name": "stdout",
     "output_type": "stream",
     "text": [
      "3\n"
     ]
    }
   ],
   "source": [
    "def functionB(n):\n",
    "    state = 0\n",
    "    if n % 2 == 1:\n",
    "        state = 1\n",
    "        if n % 3 == 0:\n",
    "            state = 2\n",
    "    else:\n",
    "        state = 3\n",
    "    return state\n",
    "print(functionB(-2))\n",
    "# functionB()"
   ]
  },
  {
   "cell_type": "code",
   "execution_count": 7,
   "id": "8b2b969a",
   "metadata": {},
   "outputs": [
    {
     "name": "stdout",
     "output_type": "stream",
     "text": [
      "cd1234\n"
     ]
    }
   ],
   "source": [
    "def functionC(letters):\n",
    "    out = letters[2:]\n",
    "    out = out + [str(1234)]\n",
    "    out = \"\".join(out)\n",
    "    return out\n",
    "print(functionC(['a', 'b', 'c', 'd']))\n",
    "# functionC()"
   ]
  },
  {
   "cell_type": "code",
   "execution_count": 8,
   "id": "f91c6786",
   "metadata": {},
   "outputs": [
    {
     "name": "stdout",
     "output_type": "stream",
     "text": [
      "abc\n",
      "abcabc\n",
      "abcabcabc\n"
     ]
    }
   ],
   "source": [
    "def functionD(s, n):\n",
    "    \"Print num lines consisting of str, repeating str once more on each line.\"\n",
    "    for i in range(0,n):\n",
    "        print(s * (i + 1))\n",
    "functionD(\"abc\", 3)\n",
    "# functionD()"
   ]
  },
  {
   "cell_type": "code",
   "execution_count": null,
   "id": "f4ecb368",
   "metadata": {},
   "outputs": [],
   "source": []
  }
 ],
 "metadata": {
  "kernelspec": {
   "display_name": "Python 3.10.6 64-bit (microsoft store)",
   "language": "python",
   "name": "python3"
  },
  "language_info": {
   "codemirror_mode": {
    "name": "ipython",
    "version": 3
   },
   "file_extension": ".py",
   "mimetype": "text/x-python",
   "name": "python",
   "nbconvert_exporter": "python",
   "pygments_lexer": "ipython3",
   "version": "3.10.8"
  },
  "vscode": {
   "interpreter": {
    "hash": "9aff9e50adfaa9e30c910fb3872ffdc72747acb5f50803ca0504f00e980f7c25"
   }
  }
 },
 "nbformat": 4,
 "nbformat_minor": 5
}
