{
 "cells": [
  {
   "cell_type": "markdown",
   "metadata": {},
   "source": [
    "# Knowledge Graphs: Pathfinding and Graph Learning"
   ]
  },
  {
   "cell_type": "markdown",
   "metadata": {},
   "source": [
    "## 1. Description"
   ]
  },
  {
   "cell_type": "markdown",
   "metadata": {},
   "source": [
    "In this exercise, we will generate a routable graph and perform a Dijkstra-routing on this graph, finding the shortest possible route from a starting location to a destination!\n",
    "To achieve this, we will follow the steps of the routing process as illustrated in the lecture.\n",
    "Afterwards we will use different pre defined graphs to show the random walk based node embedding method. \n",
    "In addition we will define a Graph Convolutional Network and train this on a large scaled dataset. "
   ]
  },
  {
   "cell_type": "markdown",
   "metadata": {},
   "source": [
    "In order to execute the code of this practice session, you will need the following python packages. This exercise has been designed to mostly employ standard python packages, in order to make its content more comprehendable without knowing anything about exotic python modules. There are however more efficient ways of solving the presented problem with python by using pre-existing routing or graph libraries.\n",
    "Please install all missing packages prior to proceeding!"
   ]
  },
  {
   "cell_type": "code",
   "execution_count": 2,
   "metadata": {},
   "outputs": [],
   "source": [
    "## Imports for this exercise\n",
    "\n",
    "# Used for visualizing our graph\n",
    "from matplotlib import pyplot as plt \n",
    "\n",
    "# Used to calculate distances from GPS-Coordinates, see: https://en.wikipedia.org/wiki/Haversine_formula\n",
    "from haversine import haversine\n",
    "\n",
    "# Used to measure computing time\n",
    "import time\n",
    "\n",
    "# Used to calculate angles\n",
    "from math import atan, degrees, pi\n",
    "\n",
    "# Used to define Metaclasses\n",
    "import abc\n",
    "\n",
    "# Used to generate random origin and destination points for the routing\n",
    "import random\n",
    "\n",
    "# Used to define custom graph networks\n",
    "import networkx as nx\n",
    "\n",
    "# Used for general numerical calculations\n",
    "import numpy as np\n",
    "\n",
    "# This package includes the random walk and node2vec algorithm\n",
    "from node2vec import Node2Vec"
   ]
  },
  {
   "cell_type": "markdown",
   "metadata": {},
   "source": [
    "## 2. Generate a Routable Graph"
   ]
  },
  {
   "cell_type": "markdown",
   "metadata": {},
   "source": [
    "It is known from the lecture, that all routing algorithms rely on a graph representation of the street network on which the routing shall take place. In order to derive such a graph representation, a data model of the street domain in question has to be set up first. \n",
    "The graph representation generated from the data model, has to be pre-processed, in order to generate a routable graph. These processes and all corresponding programming steps shall be presented in this section. "
   ]
  },
  {
   "cell_type": "markdown",
   "metadata": {},
   "source": [
    "### 2.1 The Map"
   ]
  },
  {
   "cell_type": "markdown",
   "metadata": {},
   "source": [
    "In this subsection, a set of streets for the routing task is defined. This set of streets is then represented in a digital data model similar to the OSM data model.\n",
    "\n",
    "Before data collection can take place, a spatial area on which the operations shall take place is to be defined. For this practise session, we choose this area to be the surroundings of the TUM \"Stammgelände\".\n",
    "\n",
    "Suppose the following image generated with https://mapstyle.withgoogle.com/ :  "
   ]
  },
  {
   "cell_type": "markdown",
   "metadata": {},
   "source": [
    "This image is not an original satellite image. Instead, it is a image rendered from a digital map. This representation has been chosen for this practice session for the sake of simplicity. All further steps could as well be carried out using original satellite imagery. Instead of using satellite imagery, all data can as well be generated using a GPS tracking device."
   ]
  },
  {
   "cell_type": "markdown",
   "metadata": {},
   "source": [
    "### 2.2 Defining a Data Model"
   ]
  },
  {
   "cell_type": "markdown",
   "metadata": {},
   "source": [
    "In order to model the physical street network digitally, we make use of a data model similar to the one described in the lecture (OSM). In order to structure all necessary data for generating the routable graph, we introduce classes for the most important entities used to model street geometries: Nodes and Ways.\n",
    "\n",
    "With the help of these classes, a data model can be filled with GPS data extracted from satellite imagery or GPS tracking devices. The data model is then translated to a routable graph in the subsequent sections."
   ]
  },
  {
   "cell_type": "markdown",
   "metadata": {},
   "source": [
    "#### 2.2.1 The Node Class"
   ]
  },
  {
   "cell_type": "markdown",
   "metadata": {},
   "source": [
    "The most intuitive geometric entity of a digital map is the node. The node represents an arbitrary location in the map space, given by its geographic coordinates (Latitude, Longitude).\n",
    "The following figure shows the already introduced street network used in this practical session. This time however, it is extended by the nodes that shall be contained in our digital map."
   ]
  },
  {
   "cell_type": "markdown",
   "metadata": {},
   "source": [
    "The following code excerpt serves to generate a node class for our data model. In it, all explanations from above are reflected."
   ]
  },
  {
   "cell_type": "code",
   "execution_count": 3,
   "metadata": {},
   "outputs": [],
   "source": [
    "# Lecture: Defined by latitude, longitude and node id. Represents arbitrary locations. Attributes specified by tags.\n",
    "\n",
    "class Node:\n",
    "    \n",
    "    # This defines how a Node Object is initialized!\n",
    "    def __init__(self, ID, lat, lon):\n",
    "         \n",
    "        # Each node has an ID to uniquely identify it    \n",
    "        self.ID = ID \n",
    "        \n",
    "        # The nodes position shall be given by its geo-coordinates (Latitude and Longitude)\n",
    "        self.lat = lat\n",
    "        self.lon = lon\n",
    "        \n",
    "        # A tag specifies features and properties of a node. Lets suppose tag is a dictionary with keys and values\n",
    "        self.tag = {}\n",
    "    \n",
    "        # A little addition to the data model, in order to make this class reusable for graph nodes\n",
    "        # This attribute is used to tell the graph compression algorithm to not get rid of this node.\n",
    "        self.dont_compress = False\n",
    "    \n",
    "    # Add a dictionary of tags to this node\n",
    "    def setTag(self, tag):\n",
    "        self.tag = tag\n",
    "    \n",
    "    # Set dont_compress flag\n",
    "    def secure(self):\n",
    "        self.dont_compress = True"
   ]
  },
  {
   "cell_type": "markdown",
   "metadata": {},
   "source": [
    "#### 2.2.2 The Way Class"
   ]
  },
  {
   "cell_type": "markdown",
   "metadata": {},
   "source": [
    "The second big part of our data model is given by the concept of ways. Ways unite a set of nodes to a line (e.g. a street). Hence, they are defined by an ordered set of nodes as known from the lecture. A way can as well be attributed a tag, specifying further information about the way's physical meaning (i.e. \"Is it a street? Is it the outlines of a house?\")."
   ]
  },
  {
   "cell_type": "markdown",
   "metadata": {},
   "source": [
    "The way class defines a prototype of the way concept in python and completes the data model for this exercise:"
   ]
  },
  {
   "cell_type": "code",
   "execution_count": 4,
   "metadata": {},
   "outputs": [],
   "source": [
    "# Lecture: Defined by an ordered set of nodes. Groups nodes into lines. Attributes specified by tags.\n",
    "\n",
    "class Way:\n",
    "    # This defines how a Way Object is initialized!\n",
    "    def __init__(self, ID):\n",
    "        # Each way has an ID to uniquely identify it\n",
    "        self.ID = ID \n",
    "        # A tag specifies features and properties of a way. Lets suppose tag is a dictionary with keys and values\n",
    "        self.tag = {}\n",
    "        # This is used to store all nodes associated with the way\n",
    "        self.nodes = []\n",
    "    \n",
    "    # Add nodes to way\n",
    "    def addNode(self, node):\n",
    "        self.nodes.append(node)\n",
    "    \n",
    "    # Add multiple nodes to way\n",
    "    def addNodes(self, nodes):\n",
    "        for node in nodes:\n",
    "            self.addNode(node)\n",
    "    \n",
    "    # Add a dictionary of tags to this way\n",
    "    def setTag(self, tag):\n",
    "        self.tag = tag"
   ]
  },
  {
   "cell_type": "markdown",
   "metadata": {},
   "source": [
    "#### 2.2.3 Filling the Data Model"
   ]
  },
  {
   "cell_type": "markdown",
   "metadata": {},
   "source": [
    "After the definition of the necessary data model took place, a digital map of \"TUM Stammgelände\" shall be generated making use of the pre-defined data model.\n",
    "\n",
    "Prior to generating objects from our data model classes, data collection has to take place. The information needed to fill our digital map is to be generated by either visiting the real life \"Stammgelände\" and its surroundings and saving the GPS coordinates of all nodes previously shown on the map or by fitting satellite imagery into a GPS coordinate system and extracting the relevant GPS information.\n",
    "\n",
    "Either way, all node positions have to be certain to proceed. Furthermore, it is necessary to be able to name all nodes belonging to a street. To relief you from the task of buying GPS trackers and walking out to map the \"Stammgelände\", all necessary GPS Coordinates and way assignments are given in this exercise (derived with the kind help of https://www.google.com/maps/place/TUM+Stammgel%C3%A4nde/@48.1491011,11.565128,17z). With this information at hand, our digital map is populated like this:"
   ]
  },
  {
   "cell_type": "code",
   "execution_count": 5,
   "metadata": {},
   "outputs": [],
   "source": [
    "# Just a little helper class to automatically generate unique IDs \n",
    "class IDGen:\n",
    "    def __init__(self):\n",
    "        self.start = 0\n",
    "        \n",
    "    def next(self):\n",
    "        self.start = self.start+1\n",
    "        return self.start\n",
    "    \n",
    "    def reset(self):\n",
    "        self.start = 0\n",
    "    \n",
    "idgen = IDGen()\n",
    "\n",
    "# Fill data model with data retrieved from satellite imagery or gps trackers\n",
    "\n",
    "# Nodes\n",
    "n1 = Node(idgen.next(), 48.149633, 11.560805)\n",
    "n2 = Node(idgen.next(), 48.149060, 11.562908)\n",
    "n3 = Node(idgen.next(), 48.148731, 11.564002)\n",
    "n4 = Node(idgen.next(), 48.148323, 11.565461)\n",
    "n5 = Node(idgen.next(), 48.147607, 11.568036)\n",
    "n6 = Node(idgen.next(), 48.146891, 11.570568)\n",
    "n7 = Node(idgen.next(), 48.146168, 11.573250)\n",
    "n8 = n6 # These nodes, although from different streets, are the same (street corner)\n",
    "n9 = Node(idgen.next(), 48.147972, 11.571298)\n",
    "n10 = Node(idgen.next(), 48.148974, 11.571952)\n",
    "n11 = Node(idgen.next(), 48.150084, 11.572650)\n",
    "n12 = Node(idgen.next(), 48.151036, 11.573283)\n",
    "n13 = Node(idgen.next(), 48.151744, 11.573723)\n",
    "n14 = n7\n",
    "n15 = Node(idgen.next(), 48.148194, 11.574570)\n",
    "n16 = Node(idgen.next(), 48.150270, 11.575965)\n",
    "n17 = Node(idgen.next(), 48.151636, 11.562443)\n",
    "n18 = Node(idgen.next(), 48.151142, 11.564194)\n",
    "n19 = Node(idgen.next(), 48.150799, 11.565441)\n",
    "n20 = Node(idgen.next(), 48.15040, 11.566803)\n",
    "n21 = Node(idgen.next(), 48.149695, 11.569375)\n",
    "n22 = n10 \n",
    "n23 = n15 \n",
    "n24 = Node(idgen.next(), 48.152732, 11.563115)\n",
    "n25 = Node(idgen.next(), 48.152221, 11.564967)\n",
    "n26 = Node(idgen.next(), 48.151522, 11.567501)\n",
    "n27 = Node(idgen.next(), 48.150788, 11.570065)\n",
    "n28 = Node(idgen.next(), 48.150449, 11.571324)\n",
    "n29 = n11 \n",
    "n30 = Node(idgen.next(), 48.153213, 11.565612)\n",
    "n31 = Node(idgen.next(), 48.152489, 11.568145)\n",
    "n32 = Node(idgen.next(), 48.151790, 11.570710)\n",
    "n33 = Node(idgen.next(), 48.151416, 11.571946)\n",
    "n34 = n12 \n",
    "n35 = n16 \n",
    "n36 = n30 \n",
    "n37 = n25 \n",
    "n38 = n18 \n",
    "n39 = Node(idgen.next(), 48.149994, 11.563510)\n",
    "n40 = n2 \n",
    "n41 = Node(idgen.next(), 48.148090, 11.562243)\n",
    "n42 = Node(idgen.next(), 48.146876, 11.561454)\n",
    "n43 = Node(idgen.next(), 48.152479, 11.571174)\n",
    "n44 = n32 \n",
    "n45 = n27\n",
    "n46 = n21\n",
    "n47 = Node(idgen.next(), 48.148879, 11.568846)\n",
    "n48 = n5\n",
    "n49 = n31\n",
    "n50 = n26\n",
    "n51 = n20\n",
    "n52 = Node(idgen.next(), 48.149258, 11.566059)\n",
    "n53 = n4\n",
    "n54 = Node(idgen.next(), 48.146399, 11.564200)\n",
    "n55 = n42\n",
    "n56 = Node(idgen.next(), 48.146465, 11.562928)\n",
    "n57 = Node(idgen.next(), 48.146195, 11.563830)\n",
    "n58 = n57\n",
    "n59 = n54\n",
    "n60 = n56\n",
    "n61 = Node(idgen.next(), 48.147326, 11.563433)\n",
    "n62 = Node(idgen.next(), 48.147422, 11.563208)\n",
    "n63 = n3\n",
    "n64 = n39\n",
    "n65 = Node(idgen.next(), 48.149661, 11.564694)\n",
    "n66 = n52\n",
    "n67 = n65\n",
    "n68 = n19\n",
    "n69 = n33\n",
    "n70 = n28\n",
    "\n",
    "# Reset ID helper class to generate new IDs starting with 1\n",
    "idgen.reset()\n",
    "\n",
    "# Assemble ways from nodes\n",
    "\n",
    "# Generate way object for each street modelled\n",
    "Arcisstrasse = Way(idgen.next())\n",
    "Luisenstrasse = Way(idgen.next())\n",
    "BriennerStrasse = Way(idgen.next())\n",
    "Koenigsplatz = Way(idgen.next())\n",
    "RichardWagnerStrasse = Way(idgen.next())\n",
    "Steinheilstrasse = Way(idgen.next())\n",
    "Enhuberstrasse = Way(idgen.next())\n",
    "Theresienstrasse = Way(idgen.next())\n",
    "Hessstrasse = Way(idgen.next())\n",
    "Schellingstrasse = Way(idgen.next())\n",
    "Augustenstrasse = Way(idgen.next())\n",
    "Gabelsbergerstrasse = Way(idgen.next())\n",
    "BarerStrasse = Way(idgen.next())\n",
    "Tuerkenstrasse = Way(idgen.next())\n",
    "Schraudolphstrasse = Way(idgen.next())\n",
    "\n",
    "# Add nodes to way objects (each way is an ordered list of nodes)\n",
    "Arcisstrasse.addNodes([n43, n44, n45, n46, n47, n48])\n",
    "Luisenstrasse.addNodes([n49, n50, n51, n52, n53, n54])\n",
    "BriennerStrasse.addNodes([n55, n56, n57])\n",
    "Koenigsplatz.addNodes([n58, n59])\n",
    "RichardWagnerStrasse.addNodes([n60, n61, n62, n63])\n",
    "Steinheilstrasse.addNodes([n64, n65, n66])\n",
    "Enhuberstrasse.addNodes([n67, n68])\n",
    "Theresienstrasse.addNodes([n17, n18, n19, n20, n21, n22, n23])\n",
    "Hessstrasse.addNodes([n24, n25, n26, n27, n28, n29])\n",
    "Schellingstrasse.addNodes([n30, n31, n32, n33, n34, n35])\n",
    "Augustenstrasse.addNodes([n36, n37, n38, n39, n40, n41, n42])\n",
    "Gabelsbergerstrasse.addNodes([n1, n2, n3, n4, n5, n6, n7])\n",
    "BarerStrasse.addNodes([n8, n9, n10, n11, n12, n13])\n",
    "Tuerkenstrasse.addNodes([n14, n15, n16])\n",
    "Schraudolphstrasse.addNodes([n69, n70])\n",
    "\n",
    "# Gather all streets in a list. This is our map\n",
    "digital_map = [Arcisstrasse, Luisenstrasse, BriennerStrasse, Koenigsplatz, RichardWagnerStrasse, Steinheilstrasse, Enhuberstrasse, Theresienstrasse, Hessstrasse, Schellingstrasse, Augustenstrasse, Gabelsbergerstrasse, BarerStrasse, Tuerkenstrasse, Schraudolphstrasse]\n",
    "\n",
    "# Add tags to the streets\n",
    "street_names = [\"Arcisstrasse\", \"Luisenstrasse\", \"Brienner Strasse\", \"Königsplatz\", \"Richard Wagner Strasse\", \"Steinheilstrasse\", \"Enhuberstrasse\", \"Theresienstrasse\", \"Heßstrasse\", \"Schellingstrasse\", \"Augustenstrasse\", \"Gabelsberger Strasse\", \"Barer Strasse\", \"Türkenstrasse\", \"Schraudolphstrasse\"]\n",
    "\n",
    "for i, way in enumerate(digital_map):\n",
    "    way.setTag({\"highway\":\"residential\", \"name\":street_names[i]})"
   ]
  },
  {
   "cell_type": "markdown",
   "metadata": {},
   "source": [
    "#### 2.2.4 Checking the Data Model"
   ]
  },
  {
   "cell_type": "markdown",
   "metadata": {},
   "source": [
    "In the last subsection, a data model was defined. Subsequentely, a digital map was generated from real life GPS data. The following code generates an overview over the outcome of these processes. This is used to ensure ourselves that the contents of our digital map correctly model the real life street network around \"Stammgelände\"."
   ]
  },
  {
   "cell_type": "code",
   "execution_count": 6,
   "metadata": {},
   "outputs": [
    {
     "name": "stdout",
     "output_type": "stream",
     "text": [
      "DATA MODEL STATISTICS:\n",
      "----------------------\n",
      "\n",
      "o Number of ways: 15\n",
      "\n",
      "o Way description:\n",
      "\n",
      "\t - Name: Arcisstrasse              Type: residential            Number of Nodes: 6\n",
      "\t - Name: Luisenstrasse             Type: residential            Number of Nodes: 6\n",
      "\t - Name: Brienner Strasse          Type: residential            Number of Nodes: 3\n",
      "\t - Name: Königsplatz               Type: residential            Number of Nodes: 2\n",
      "\t - Name: Richard Wagner Strasse    Type: residential            Number of Nodes: 4\n",
      "\t - Name: Steinheilstrasse          Type: residential            Number of Nodes: 3\n",
      "\t - Name: Enhuberstrasse            Type: residential            Number of Nodes: 2\n",
      "\t - Name: Theresienstrasse          Type: residential            Number of Nodes: 7\n",
      "\t - Name: Heßstrasse                Type: residential            Number of Nodes: 6\n",
      "\t - Name: Schellingstrasse          Type: residential            Number of Nodes: 6\n",
      "\t - Name: Augustenstrasse           Type: residential            Number of Nodes: 7\n",
      "\t - Name: Gabelsberger Strasse      Type: residential            Number of Nodes: 7\n",
      "\t - Name: Barer Strasse             Type: residential            Number of Nodes: 6\n",
      "\t - Name: Türkenstrasse             Type: residential            Number of Nodes: 3\n",
      "\t - Name: Schraudolphstrasse        Type: residential            Number of Nodes: 2\n",
      "\n",
      "o Number of nodes: 70\n",
      "\n",
      "o Unique number of nodes: 40\n",
      "\n",
      "o Node description:\n",
      "\n",
      "\t - Node ID: 32\n",
      "\t\tBelongs to: Arcisstrasse\n",
      "\t\tCoordinates: (48.152479, 11.571174)\n",
      "\t\tIs street corner: False\n",
      "\n",
      "\t - Node ID: 27\n",
      "\t\tBelongs to: Arcisstrasse\n",
      "\t\tCoordinates: (48.15179, 11.57071)\n",
      "\t\tIs street corner: True\n",
      "\n",
      "\t - Node ID: 23\n",
      "\t\tBelongs to: Arcisstrasse\n",
      "\t\tCoordinates: (48.150788, 11.570065)\n",
      "\t\tIs street corner: True\n",
      "\n",
      "\t - Node ID: 19\n",
      "\t\tBelongs to: Arcisstrasse\n",
      "\t\tCoordinates: (48.149695, 11.569375)\n",
      "\t\tIs street corner: True\n",
      "\n",
      "\t - Node ID: 33\n",
      "\t\tBelongs to: Arcisstrasse\n",
      "\t\tCoordinates: (48.148879, 11.568846)\n",
      "\t\tIs street corner: False\n",
      "\n",
      "\t - Node ID: 5\n",
      "\t\tBelongs to: Arcisstrasse\n",
      "\t\tCoordinates: (48.147607, 11.568036)\n",
      "\t\tIs street corner: True\n",
      "\n",
      "\t - Node ID: 26\n",
      "\t\tBelongs to: Luisenstrasse\n",
      "\t\tCoordinates: (48.152489, 11.568145)\n",
      "\t\tIs street corner: True\n",
      "\n",
      "\t - Node ID: 22\n",
      "\t\tBelongs to: Luisenstrasse\n",
      "\t\tCoordinates: (48.151522, 11.567501)\n",
      "\t\tIs street corner: True\n",
      "\n",
      "\t - Node ID: 18\n",
      "\t\tBelongs to: Luisenstrasse\n",
      "\t\tCoordinates: (48.1504, 11.566803)\n",
      "\t\tIs street corner: True\n",
      "\n",
      "\t - Node ID: 34\n",
      "\t\tBelongs to: Luisenstrasse\n",
      "\t\tCoordinates: (48.149258, 11.566059)\n",
      "\t\tIs street corner: True\n",
      "\n",
      "\t - Node ID: 4\n",
      "\t\tBelongs to: Luisenstrasse\n",
      "\t\tCoordinates: (48.148323, 11.565461)\n",
      "\t\tIs street corner: True\n",
      "\n",
      "\t - Node ID: 35\n",
      "\t\tBelongs to: Luisenstrasse\n",
      "\t\tCoordinates: (48.146399, 11.5642)\n",
      "\t\tIs street corner: True\n",
      "\n",
      "\t - Node ID: 31\n",
      "\t\tBelongs to: Brienner Strasse\n",
      "\t\tCoordinates: (48.146876, 11.561454)\n",
      "\t\tIs street corner: True\n",
      "\n",
      "\t - Node ID: 36\n",
      "\t\tBelongs to: Brienner Strasse\n",
      "\t\tCoordinates: (48.146465, 11.562928)\n",
      "\t\tIs street corner: True\n",
      "\n",
      "\t - Node ID: 37\n",
      "\t\tBelongs to: Brienner Strasse\n",
      "\t\tCoordinates: (48.146195, 11.56383)\n",
      "\t\tIs street corner: True\n",
      "\n",
      "\t - Node ID: 37\n",
      "\t\tBelongs to: Königsplatz\n",
      "\t\tCoordinates: (48.146195, 11.56383)\n",
      "\t\tIs street corner: True\n",
      "\n",
      "\t - Node ID: 35\n",
      "\t\tBelongs to: Königsplatz\n",
      "\t\tCoordinates: (48.146399, 11.5642)\n",
      "\t\tIs street corner: True\n",
      "\n",
      "\t - Node ID: 36\n",
      "\t\tBelongs to: Richard Wagner Strasse\n",
      "\t\tCoordinates: (48.146465, 11.562928)\n",
      "\t\tIs street corner: True\n",
      "\n",
      "\t - Node ID: 38\n",
      "\t\tBelongs to: Richard Wagner Strasse\n",
      "\t\tCoordinates: (48.147326, 11.563433)\n",
      "\t\tIs street corner: False\n",
      "\n",
      "\t - Node ID: 39\n",
      "\t\tBelongs to: Richard Wagner Strasse\n",
      "\t\tCoordinates: (48.147422, 11.563208)\n",
      "\t\tIs street corner: False\n",
      "\n",
      "\t - Node ID: 3\n",
      "\t\tBelongs to: Richard Wagner Strasse\n",
      "\t\tCoordinates: (48.148731, 11.564002)\n",
      "\t\tIs street corner: True\n",
      "\n",
      "\t - Node ID: 29\n",
      "\t\tBelongs to: Steinheilstrasse\n",
      "\t\tCoordinates: (48.149994, 11.56351)\n",
      "\t\tIs street corner: True\n",
      "\n",
      "\t - Node ID: 40\n",
      "\t\tBelongs to: Steinheilstrasse\n",
      "\t\tCoordinates: (48.149661, 11.564694)\n",
      "\t\tIs street corner: True\n",
      "\n",
      "\t - Node ID: 34\n",
      "\t\tBelongs to: Steinheilstrasse\n",
      "\t\tCoordinates: (48.149258, 11.566059)\n",
      "\t\tIs street corner: True\n",
      "\n",
      "\t - Node ID: 40\n",
      "\t\tBelongs to: Enhuberstrasse\n",
      "\t\tCoordinates: (48.149661, 11.564694)\n",
      "\t\tIs street corner: True\n",
      "\n",
      "\t - Node ID: 17\n",
      "\t\tBelongs to: Enhuberstrasse\n",
      "\t\tCoordinates: (48.150799, 11.565441)\n",
      "\t\tIs street corner: True\n",
      "\n",
      "\t - Node ID: 15\n",
      "\t\tBelongs to: Theresienstrasse\n",
      "\t\tCoordinates: (48.151636, 11.562443)\n",
      "\t\tIs street corner: False\n",
      "\n",
      "\t - Node ID: 16\n",
      "\t\tBelongs to: Theresienstrasse\n",
      "\t\tCoordinates: (48.151142, 11.564194)\n",
      "\t\tIs street corner: True\n",
      "\n",
      "\t - Node ID: 17\n",
      "\t\tBelongs to: Theresienstrasse\n",
      "\t\tCoordinates: (48.150799, 11.565441)\n",
      "\t\tIs street corner: True\n",
      "\n",
      "\t - Node ID: 18\n",
      "\t\tBelongs to: Theresienstrasse\n",
      "\t\tCoordinates: (48.1504, 11.566803)\n",
      "\t\tIs street corner: True\n",
      "\n",
      "\t - Node ID: 19\n",
      "\t\tBelongs to: Theresienstrasse\n",
      "\t\tCoordinates: (48.149695, 11.569375)\n",
      "\t\tIs street corner: True\n",
      "\n",
      "\t - Node ID: 9\n",
      "\t\tBelongs to: Theresienstrasse\n",
      "\t\tCoordinates: (48.148974, 11.571952)\n",
      "\t\tIs street corner: True\n",
      "\n",
      "\t - Node ID: 13\n",
      "\t\tBelongs to: Theresienstrasse\n",
      "\t\tCoordinates: (48.148194, 11.57457)\n",
      "\t\tIs street corner: True\n",
      "\n",
      "\t - Node ID: 20\n",
      "\t\tBelongs to: Heßstrasse\n",
      "\t\tCoordinates: (48.152732, 11.563115)\n",
      "\t\tIs street corner: False\n",
      "\n",
      "\t - Node ID: 21\n",
      "\t\tBelongs to: Heßstrasse\n",
      "\t\tCoordinates: (48.152221, 11.564967)\n",
      "\t\tIs street corner: True\n",
      "\n",
      "\t - Node ID: 22\n",
      "\t\tBelongs to: Heßstrasse\n",
      "\t\tCoordinates: (48.151522, 11.567501)\n",
      "\t\tIs street corner: True\n",
      "\n",
      "\t - Node ID: 23\n",
      "\t\tBelongs to: Heßstrasse\n",
      "\t\tCoordinates: (48.150788, 11.570065)\n",
      "\t\tIs street corner: True\n",
      "\n",
      "\t - Node ID: 24\n",
      "\t\tBelongs to: Heßstrasse\n",
      "\t\tCoordinates: (48.150449, 11.571324)\n",
      "\t\tIs street corner: True\n",
      "\n",
      "\t - Node ID: 10\n",
      "\t\tBelongs to: Heßstrasse\n",
      "\t\tCoordinates: (48.150084, 11.57265)\n",
      "\t\tIs street corner: True\n",
      "\n",
      "\t - Node ID: 25\n",
      "\t\tBelongs to: Schellingstrasse\n",
      "\t\tCoordinates: (48.153213, 11.565612)\n",
      "\t\tIs street corner: True\n",
      "\n",
      "\t - Node ID: 26\n",
      "\t\tBelongs to: Schellingstrasse\n",
      "\t\tCoordinates: (48.152489, 11.568145)\n",
      "\t\tIs street corner: True\n",
      "\n",
      "\t - Node ID: 27\n",
      "\t\tBelongs to: Schellingstrasse\n",
      "\t\tCoordinates: (48.15179, 11.57071)\n",
      "\t\tIs street corner: True\n",
      "\n",
      "\t - Node ID: 28\n",
      "\t\tBelongs to: Schellingstrasse\n",
      "\t\tCoordinates: (48.151416, 11.571946)\n",
      "\t\tIs street corner: True\n",
      "\n",
      "\t - Node ID: 11\n",
      "\t\tBelongs to: Schellingstrasse\n",
      "\t\tCoordinates: (48.151036, 11.573283)\n",
      "\t\tIs street corner: True\n",
      "\n",
      "\t - Node ID: 14\n",
      "\t\tBelongs to: Schellingstrasse\n",
      "\t\tCoordinates: (48.15027, 11.575965)\n",
      "\t\tIs street corner: True\n",
      "\n",
      "\t - Node ID: 25\n",
      "\t\tBelongs to: Augustenstrasse\n",
      "\t\tCoordinates: (48.153213, 11.565612)\n",
      "\t\tIs street corner: True\n",
      "\n",
      "\t - Node ID: 21\n",
      "\t\tBelongs to: Augustenstrasse\n",
      "\t\tCoordinates: (48.152221, 11.564967)\n",
      "\t\tIs street corner: True\n",
      "\n",
      "\t - Node ID: 16\n",
      "\t\tBelongs to: Augustenstrasse\n",
      "\t\tCoordinates: (48.151142, 11.564194)\n",
      "\t\tIs street corner: True\n",
      "\n",
      "\t - Node ID: 29\n",
      "\t\tBelongs to: Augustenstrasse\n",
      "\t\tCoordinates: (48.149994, 11.56351)\n",
      "\t\tIs street corner: True\n",
      "\n",
      "\t - Node ID: 2\n",
      "\t\tBelongs to: Augustenstrasse\n",
      "\t\tCoordinates: (48.14906, 11.562908)\n",
      "\t\tIs street corner: True\n",
      "\n",
      "\t - Node ID: 30\n",
      "\t\tBelongs to: Augustenstrasse\n",
      "\t\tCoordinates: (48.14809, 11.562243)\n",
      "\t\tIs street corner: False\n",
      "\n",
      "\t - Node ID: 31\n",
      "\t\tBelongs to: Augustenstrasse\n",
      "\t\tCoordinates: (48.146876, 11.561454)\n",
      "\t\tIs street corner: True\n",
      "\n",
      "\t - Node ID: 1\n",
      "\t\tBelongs to: Gabelsberger Strasse\n",
      "\t\tCoordinates: (48.149633, 11.560805)\n",
      "\t\tIs street corner: False\n",
      "\n",
      "\t - Node ID: 2\n",
      "\t\tBelongs to: Gabelsberger Strasse\n",
      "\t\tCoordinates: (48.14906, 11.562908)\n",
      "\t\tIs street corner: True\n",
      "\n",
      "\t - Node ID: 3\n",
      "\t\tBelongs to: Gabelsberger Strasse\n",
      "\t\tCoordinates: (48.148731, 11.564002)\n",
      "\t\tIs street corner: True\n",
      "\n",
      "\t - Node ID: 4\n",
      "\t\tBelongs to: Gabelsberger Strasse\n",
      "\t\tCoordinates: (48.148323, 11.565461)\n",
      "\t\tIs street corner: True\n",
      "\n",
      "\t - Node ID: 5\n",
      "\t\tBelongs to: Gabelsberger Strasse\n",
      "\t\tCoordinates: (48.147607, 11.568036)\n",
      "\t\tIs street corner: True\n",
      "\n",
      "\t - Node ID: 6\n",
      "\t\tBelongs to: Gabelsberger Strasse\n",
      "\t\tCoordinates: (48.146891, 11.570568)\n",
      "\t\tIs street corner: True\n",
      "\n",
      "\t - Node ID: 7\n",
      "\t\tBelongs to: Gabelsberger Strasse\n",
      "\t\tCoordinates: (48.146168, 11.57325)\n",
      "\t\tIs street corner: True\n",
      "\n",
      "\t - Node ID: 6\n",
      "\t\tBelongs to: Barer Strasse\n",
      "\t\tCoordinates: (48.146891, 11.570568)\n",
      "\t\tIs street corner: True\n",
      "\n",
      "\t - Node ID: 8\n",
      "\t\tBelongs to: Barer Strasse\n",
      "\t\tCoordinates: (48.147972, 11.571298)\n",
      "\t\tIs street corner: False\n",
      "\n",
      "\t - Node ID: 9\n",
      "\t\tBelongs to: Barer Strasse\n",
      "\t\tCoordinates: (48.148974, 11.571952)\n",
      "\t\tIs street corner: True\n",
      "\n",
      "\t - Node ID: 10\n",
      "\t\tBelongs to: Barer Strasse\n",
      "\t\tCoordinates: (48.150084, 11.57265)\n",
      "\t\tIs street corner: True\n",
      "\n",
      "\t - Node ID: 11\n",
      "\t\tBelongs to: Barer Strasse\n",
      "\t\tCoordinates: (48.151036, 11.573283)\n",
      "\t\tIs street corner: True\n",
      "\n",
      "\t - Node ID: 12\n",
      "\t\tBelongs to: Barer Strasse\n",
      "\t\tCoordinates: (48.151744, 11.573723)\n",
      "\t\tIs street corner: False\n",
      "\n",
      "\t - Node ID: 7\n",
      "\t\tBelongs to: Türkenstrasse\n",
      "\t\tCoordinates: (48.146168, 11.57325)\n",
      "\t\tIs street corner: True\n",
      "\n",
      "\t - Node ID: 13\n",
      "\t\tBelongs to: Türkenstrasse\n",
      "\t\tCoordinates: (48.148194, 11.57457)\n",
      "\t\tIs street corner: True\n",
      "\n",
      "\t - Node ID: 14\n",
      "\t\tBelongs to: Türkenstrasse\n",
      "\t\tCoordinates: (48.15027, 11.575965)\n",
      "\t\tIs street corner: True\n",
      "\n",
      "\t - Node ID: 28\n",
      "\t\tBelongs to: Schraudolphstrasse\n",
      "\t\tCoordinates: (48.151416, 11.571946)\n",
      "\t\tIs street corner: True\n",
      "\n",
      "\t - Node ID: 24\n",
      "\t\tBelongs to: Schraudolphstrasse\n",
      "\t\tCoordinates: (48.150449, 11.571324)\n",
      "\t\tIs street corner: True\n",
      "\n"
     ]
    }
   ],
   "source": [
    "print(\"DATA MODEL STATISTICS:\")\n",
    "print(\"----------------------\\n\")\n",
    "\n",
    "print(\"o Number of ways: {}\\n\".format(len(digital_map)))\n",
    "\n",
    "print(\"o Way description:\\n\")\n",
    "for way in digital_map:\n",
    "    print(\"\\t - Name: {:25s} Type: {:22s} Number of Nodes: {}\".format(way.tag['name'] ,way.tag[\"highway\"], len(way.nodes)))\n",
    "\n",
    "print(\"\\no Number of nodes: {}\".format(sum([len(way.nodes) for way in digital_map])))\n",
    "\n",
    "print(\"\\no Unique number of nodes: {}\\n\".format(len(set(sum([w.nodes for w in digital_map],[])))))\n",
    "\n",
    "print(\"o Node description:\\n\")\n",
    "all_nodes = sum([w.nodes for w in digital_map],[])\n",
    "\n",
    "for way in digital_map:\n",
    "    for node in way.nodes:\n",
    "        print(\"\\t - Node ID: {}\\n\\t\\tBelongs to: {}\".format(node.ID, way.tag['name']))\n",
    "        print(\"\\t\\tCoordinates: ({}, {})\".format(node.lat, node.lon))\n",
    "        print(\"\\t\\tIs street corner: {}\\n\".format(all_nodes.count(node)>=2))"
   ]
  },
  {
   "cell_type": "markdown",
   "metadata": {},
   "source": [
    " Looking at the node description, it is clear that all nodes are fully specified by their GPS coordinates and all nodes are associated to a street.\n",
    "Bear in mind that most of the nodes in the data model are street corners (i.e. belong to more than one street), but a few are not. This fact will be addressed when it comes to graph compression in section 2.3.5"
   ]
  },
  {
   "cell_type": "markdown",
   "metadata": {},
   "source": [
    "### 2.3 Defining a Graph Class"
   ]
  },
  {
   "cell_type": "markdown",
   "metadata": {},
   "source": [
    "As taught in the lecture, a routing algorithm relies on a mathematical graph to generate feasible paths through a street network. Up to this point, we only hold a digital map model - similar to the contents of the OSM database - but not a routable graph.\n",
    "\n",
    "Fortunately, a mathematical graph can directly be generated from a digital map model. But before this transformation can take place, the basic elements of mathematical graphs have to be defined. This shall be done in the next two subsections before section 2.3.3 introduces a graph class which adds further functionalities to the graph. Finally, in section 2.3.4 a first graph is generated and visualized from the digital map."
   ]
  },
  {
   "cell_type": "markdown",
   "metadata": {},
   "source": [
    "#### 2.3.1 The Node Class"
   ]
  },
  {
   "cell_type": "markdown",
   "metadata": {},
   "source": [
    "Just like the data model, a mathematical graph employs nodes as one of its core concepts. Because of the similarities between the data model representation and the graph representation of nodes, no extra \"graph node\" class is needed. Instead, the node class already introduced for the data model is recycled for the mathematical graph as well."
   ]
  },
  {
   "cell_type": "markdown",
   "metadata": {},
   "source": [
    "#### 2.3.2 The Edge Class"
   ]
  },
  {
   "cell_type": "markdown",
   "metadata": {},
   "source": [
    "Much like ways in the data models, edges are the lines of a mathematical graph. Unlike data model ways though, edges only define a connection between two points (not an arbitrarily large number of nodes). This behaviour is to be implemented by the edge class. \n",
    "\n",
    "The assumptions for the implementation of the edge class are: \n",
    "    1. Edges are generally bidirectional\n",
    "    2. Edge weights are defined by the spatial distance between the connected nodes\n",
    "    3. Each edge has an unique ID to identify it"
   ]
  },
  {
   "cell_type": "code",
   "execution_count": 7,
   "metadata": {},
   "outputs": [],
   "source": [
    "class Edge:\n",
    "    # This defines how an Edge Object is initialized!\n",
    "    def __init__(self, ID, node_a, node_b):\n",
    "        # Each edge has an ID to uniquely identify it\n",
    "        self.ID = ID\n",
    "        # Each edge connects two nodes\n",
    "        self.node_a = node_a\n",
    "        self.node_b = node_b\n",
    "        # Each edge has an edge weight (cost)\n",
    "        self.weight = 99999 # Initialize weight with 99999 (make if unlikely to be used if it has not been set properly)\n",
    "        \n",
    "    # Automatically calculate the edge weight depending on the spatial distance between its nodes    \n",
    "    def calculateWeight(self):\n",
    "        self.weight = haversine((self.node_a.lat, self.node_a.lon),(self.node_b.lat, self.node_b.lon))\n",
    "        \n",
    "    # Set edge weight to an arbitrary value    \n",
    "    def setWeight(self, weight):\n",
    "        self.weight = weight\n",
    "        \n",
    "    # Return the nodes connected by this edge in a list\n",
    "    def getNodes(self):\n",
    "        return [self.node_a, self.node_b]"
   ]
  },
  {
   "cell_type": "markdown",
   "metadata": {},
   "source": [
    "#### 2.3.3 The Graph Class"
   ]
  },
  {
   "cell_type": "markdown",
   "metadata": {},
   "source": [
    "The last step before a mathematical graph can be generated from our digital map is the definition of a graph class in python. The graph class translates the explanation given in the lecture into python code, as it implements the graph as a set of edges and nodes. Additionally, all graph objects have a name to distinguish them from one another. \n",
    "\n",
    "Adding to the basic definition of the graph, the graph class offers some additional methods for plotting and graph generation as well as for analyzing the graph. Most of the analyzing functionalities are used by the routing algorithms in order to find paths through the graph. "
   ]
  },
  {
   "cell_type": "code",
   "execution_count": 8,
   "metadata": {},
   "outputs": [],
   "source": [
    "class Graph:\n",
    "    # This defines how an Edge Object is initialized!\n",
    "    def __init__(self, name):\n",
    "        # Each graph has a name\n",
    "        self.name = name\n",
    "        # A graph consists of edges and nodes\n",
    "        self.edges = []\n",
    "        self.nodes = []\n",
    "    \n",
    "    # Visualizing the graph\n",
    "    def plot(self):\n",
    "        # Extract all coordinates from the graph's nodes\n",
    "        lat = [node.lat for node in self.nodes]\n",
    "        lon = [node.lon for node in self.nodes]\n",
    "        # Scale the plot to make everything visible\n",
    "        lat_min = min(lat)\n",
    "        lat_max = max(lat)\n",
    "        lon_min = min(lon)\n",
    "        lon_max = max(lon)\n",
    "        MARGIN = 0.1\n",
    "        \n",
    "        plt.ylim(lat_min - MARGIN*abs(lat_max-lat_min), lat_max + MARGIN*abs(lat_max-lat_min))\n",
    "        plt.xlim(lon_min - MARGIN*abs(lon_max-lon_min), lon_max + MARGIN*abs(lon_max-lon_min))\n",
    "        \n",
    "        # Plot the nodes\n",
    "        plt.scatter(lon, lat)\n",
    "        # Plot the edges\n",
    "        for edge in self.edges:\n",
    "            plt.plot([edge.node_a.lon, edge.node_b.lon], [edge.node_a.lat, edge.node_b.lat], 'b')\n",
    "        plt.xlabel(\"Longitude\")\n",
    "        plt.ylabel(\"Latitude\")\n",
    "        plt.title(\"Graph Plot\")\n",
    "\n",
    "    # Plot a path, given by a list of nodes on the graph\n",
    "    def plotPath(self, path):\n",
    "        # Determine which edges get traversed by the path\n",
    "        edges_traversed = [self.getEdgeByNodes(path[i], path[i+1]) for i in range(0, len(path)-1)]\n",
    "        # Plot the traversed edges\n",
    "        for edge in edges_traversed:\n",
    "            plt.plot([edge.node_a.lon, edge.node_b.lon], [edge.node_a.lat, edge.node_b.lat], 'r')\n",
    "            \n",
    "    # Calculate edge weights (costs) for all the edges in the graph\n",
    "    def calculateWeights(self):\n",
    "        for edge in self.edges:\n",
    "                edge.calculateWeight()\n",
    "\n",
    "    def calculatePathLength(self, path):\n",
    "        # Determine which edges get traversed by the path\n",
    "        edges_traversed = [self.getEdgeByNodes(path[i], path[i+1]) for i in range(0, len(path)-1)]\n",
    "        pathLength = 0\n",
    "        for edge in edges_traversed:\n",
    "            pathLength += edge.weight\n",
    "        return pathLength\n",
    "            \n",
    "    # Generate a graph from a list of ways\n",
    "    def generateFromWays(self, ways):\n",
    "        # Generate edges from ways\n",
    "        for ID, way in enumerate(ways):\n",
    "            # If a way consists of two nodes only, directly create an edge\n",
    "            if len(way.nodes)==2:\n",
    "                self.edges.append(Edge(ID, way.nodes[0], way.nodes[1]))\n",
    "            # If a way consists of more than two nodes, split it into segments and add an edge for every segment\n",
    "            else:\n",
    "                for i in range(len(way.nodes)-1):\n",
    "                    self.edges.append(Edge(ID, way.nodes[i], way.nodes[i+1]))\n",
    "    \n",
    "        # Generate a list of all nodes in the graph\n",
    "        for edge in self.edges:\n",
    "            for node in edge.getNodes():\n",
    "                if node not in self.nodes:\n",
    "                    self.nodes.append(node)\n",
    "        \n",
    "        # Calculate all edge weights\n",
    "        self.calculateWeights()\n",
    "        \n",
    "    \n",
    "    # Retrieve all edges connected to the node in question\n",
    "    def getEdgesByNode(self, node):\n",
    "        out = []\n",
    "        for edge in self.edges:\n",
    "            if node in edge.getNodes():\n",
    "                out.append(edge)\n",
    "        return out\n",
    "    \n",
    "    # Retrieve a specific edge by its nodes\n",
    "    def getEdgeByNodes(self, node_a, node_b):\n",
    "        for edge in self.edges: \n",
    "            if node_a in edge.getNodes() and node_b in edge.getNodes():\n",
    "                return edge\n",
    "        return None\n",
    "    \n",
    "    # Get the sum of all the weights in the graph (i.e. test how long your whole street network is)\n",
    "    def getTotalWeight(self):\n",
    "        return sum([edge.weight for edge in self.edges])\n",
    "            \n",
    "    # Get a node's neighbors (all nodes directly connected to this node by an edge)\n",
    "    def getNeighbors(self, node):\n",
    "        neighbors = []\n",
    "        # Retrieve all edges connected to this node\n",
    "        surrounding_edges = self.getEdgesByNode(node)\n",
    "        # For all the edges connected to this node, extract the other node\n",
    "        for edge in surrounding_edges:\n",
    "            possible_neighbors = edge.getNodes()\n",
    "            neighbor = [n for n in possible_neighbors if n!=node]\n",
    "            neighbor = neighbor[0]\n",
    "            neighbors.append(neighbor)\n",
    "        return neighbors\n"
   ]
  },
  {
   "cell_type": "markdown",
   "metadata": {},
   "source": [
    "#### 2.3.4 Generating the Graph"
   ]
  },
  {
   "cell_type": "markdown",
   "metadata": {},
   "source": [
    "Remember, that at this point, we have a complete data model as well as all classes necessary to describe a mathematical graph at hand. Furthermore, the graph class offers a method to generate a mathematical graph from a set of ways (e.g. our digital map). \n",
    "\n",
    "We will now instantiate a graph object from the graph class, generate a graph from our digital map and plot the result. A final comparison between the graph plot and the real life street network assures us, that the generation of a mathematical graph from the digital map was a success."
   ]
  },
  {
   "cell_type": "code",
   "execution_count": 9,
   "metadata": {},
   "outputs": [
    {
     "data": {
      "image/png": "[encoded data removed]",
      "text/plain": [
       "<Figure size 640x480 with 1 Axes>"
      ]
     },
     "metadata": {},
     "output_type": "display_data"
    }
   ],
   "source": [
    "# Initialize a graph object\n",
    "G = Graph(\"TUM_SURROUNDINGS\")\n",
    "\n",
    "# Generate an initial routable graph\n",
    "G.generateFromWays(digital_map)\n",
    "\n",
    "# Plot the graph\n",
    "G.plot()"
   ]
  },
  {
   "cell_type": "markdown",
   "metadata": {},
   "source": [
    "## 3 Determine Origin / Destination"
   ]
  },
  {
   "cell_type": "markdown",
   "metadata": {},
   "source": [
    "Before the actual routing can be conducted, origin and destination have to be defined. In this exercise, origin and desintation can only be nodes of the graph. Modern navigation systems use more elaborate methods, enabling them to start and end at much more destinations than the ones retained in the routable graph.\n",
    "\n",
    "For this exercise some example routes have been defined that you can experiment with, but feel free to define your own routes!"
   ]
  },
  {
   "cell_type": "code",
   "execution_count": 10,
   "metadata": {},
   "outputs": [
    {
     "name": "stdout",
     "output_type": "stream",
     "text": [
      "Starting to route at: Lat. 48.149994, Lon. 11.56351\n",
      "Finding path to destination at: Lat. 48.151036, Lon. 11.573283\n"
     ]
    },
    {
     "data": {
      "image/png": "[encoded data removed]",
      "text/plain": [
       "<Figure size 640x480 with 1 Axes>"
      ]
     },
     "metadata": {},
     "output_type": "display_data"
    }
   ],
   "source": [
    "# Choose an example route to use\n",
    "ROUTE = 1\n",
    "# Define different example routes\n",
    "if ROUTE == 1:\n",
    "    # Example Route 1\n",
    "    origin = Steinheilstrasse.nodes[0]\n",
    "    destination = Schellingstrasse.nodes[-2]\n",
    "if ROUTE == 2:\n",
    "    # Example Route 2\n",
    "    origin = BriennerStrasse.nodes[0]\n",
    "    destination = Tuerkenstrasse.nodes[2]\n",
    "if ROUTE == 3:\n",
    "    # Example Route 3 -> Random route\n",
    "    origin = random.choice(G.nodes) # Choose a random origin\n",
    "    destination = random.choice([n for n in G.nodes if n!=origin]) #  Random destination that is not the origin\n",
    "\n",
    "# Some information about Origin and Destination\n",
    "print(\"Starting to route at: Lat. {}, Lon. {}\".format(origin.lat, origin.lon))\n",
    "print(\"Finding path to destination at: Lat. {}, Lon. {}\".format(destination.lat, destination.lon))\n",
    "# Plot the graph and mark origin and destination of the route to be found\n",
    "G.plot()\n",
    "plt.scatter([origin.lon, destination.lon], [origin.lat, destination.lat], s= 100, color=\"r\")\n",
    "plt.show()"
   ]
  },
  {
   "cell_type": "markdown",
   "metadata": {},
   "source": [
    "## 4 Find Path"
   ]
  },
  {
   "cell_type": "markdown",
   "metadata": {},
   "source": [
    "The final section of this exercise deals with the implementation of a routing engine and its core element, the routing algorithm. After these have been discussed, a actual routing task is solved."
   ]
  },
  {
   "cell_type": "markdown",
   "metadata": {},
   "source": [
    "### 4.1 The Routing Engine"
   ]
  },
  {
   "cell_type": "markdown",
   "metadata": {},
   "source": [
    "For this practical session, a rudimentary routing engine is to be deployed. The routing engine is implemented as an abstract super class (therefore inheriting from the abc.ABC MetaClass), with the objective of specifying detailled implementations of different routing engines later on. No matter which routing algorithm is used, a routing engine shall always define a \"pathCost\" method and a \"route\" method, which is the main method used for routing. If you do not fully grasph the idea of this abstract super class, do not worry and continue with section 4.2 right away, as this super class construct mainly exists to structure this jupyter notebook more efficiently. "
   ]
  },
  {
   "cell_type": "code",
   "execution_count": 11,
   "metadata": {},
   "outputs": [],
   "source": [
    "class RoutingEngine(abc.ABC):\n",
    "    \n",
    "    # A routing engine usually uses a cost function\n",
    "    @abc.abstractmethod\n",
    "    def pathCosts(self, graph, path):\n",
    "        pass\n",
    "    \n",
    "    # A routing engine performs a routing\n",
    "    @abc.abstractmethod\n",
    "    def route(self, graph, origin, destination):\n",
    "        pass           "
   ]
  },
  {
   "cell_type": "markdown",
   "metadata": {},
   "source": [
    "### 4.2 Dijkstra Implementation"
   ]
  },
  {
   "cell_type": "markdown",
   "metadata": {},
   "source": [
    "After all the preparation, finally, a routing algorithm has to be implemented. For this exercise, the Dijkstra routing algorithm shall be used. \n",
    "\n",
    "The routing algorithm will be implemented by creating a new class \"dijkstraRoutingEngine\" which inherits from the previously introduced \"RoutingEngine\" super class. \n",
    "\n",
    "\"dijkstraRoutingEngine\" implements the abstract methods already announced by the \"RoutingEngine\" super class. Hence, a cost function suitable for the Dijkstra algorithm is defined and the Dijkstra routing algorithm is coded following the verbal explanations from the corresponding lecture slide:"
   ]
  },
  {
   "cell_type": "code",
   "execution_count": 12,
   "metadata": {},
   "outputs": [],
   "source": [
    "class dijkstraRoutingEngine(RoutingEngine): \n",
    "    \n",
    "    def pathCosts(self, graph, path):\n",
    "\n",
    "        costs = 0\n",
    "        \n",
    "        # If the path is at least two nodes long\n",
    "        if(len(path)>1):\n",
    "            # For each pair of nodes on the path\n",
    "            for i in range(0, len(path)-1):\n",
    "                # Get the corresponding edge\n",
    "                graph_edge = graph.getEdgeByNodes(path[i], path[i+1])\n",
    "                # Add the edge's weight to the costs\n",
    "                costs = costs + graph_edge.weight\n",
    "        \n",
    "        return costs\n",
    "        \n",
    "    def route(self, graph, origin, destination):\n",
    "\n",
    "        # Check if origin and destination exist in the graph \n",
    "        if(not(origin in graph.nodes and destination in graph.nodes)):\n",
    "            raise Exception(\"Origin and or destination are not part of the Graph\")\n",
    "        \n",
    "        # From a one-element queue consisting of a zero-length path that contains only the root node\n",
    "        queue = [[origin]]\n",
    "\n",
    "        # Until the first path in the queue terminates at the goal node ...\n",
    "        while queue[0][-1]!=destination:\n",
    "\n",
    "            # ... or the queue is empty\n",
    "            if(len(queue)==0):\n",
    "                # Announce failure\n",
    "                raise Exception(\"Could not find a path between origin and destination. Check your graph!\")\n",
    "\n",
    "            # Remove the first path from the queue\n",
    "            current_path = queue.pop(0)\n",
    "\n",
    "            # Create new paths by extending the first path to all the neighbors of the terminal node\n",
    "            new_paths = []\n",
    "            terminal_node = current_path[-1]\n",
    "\n",
    "            for neighbor in graph.getNeighbors(terminal_node):\n",
    "                if neighbor not in current_path: # Reject all paths with loops\n",
    "                    new_paths.append(current_path+[neighbor])\n",
    "\n",
    "\n",
    "            # If two or more paths reach a common node, delete all those paths except the one that reaches the\n",
    "            # common node with the minimum cost\n",
    "            remove_queue_paths = []\n",
    "            remove_new_paths = []\n",
    "\n",
    "            for path in new_paths:\n",
    "                terminal_node_new_path = path[-1]\n",
    "    \n",
    "                for known_path in queue:\n",
    "                    # If the new terminal node is already existing in any of the paths ...\n",
    "                    if terminal_node_new_path in known_path:\n",
    "\n",
    "                        ind = known_path.index(terminal_node_new_path)\n",
    "\n",
    "                        if ind < len(known_path)-1:\n",
    "                            known_sub_path = known_path[0:ind+1]\n",
    "                        else:\n",
    "                            known_sub_path = known_path\n",
    "\n",
    "                        known_costs = self.pathCosts(graph, known_sub_path)\n",
    "                        new_costs = self.pathCosts(graph, path)\n",
    "\n",
    "                        \n",
    "                        # ... compare the costs of the new found path to this node with the previously known path to this node\n",
    "                        # And Remove the more expensive path\n",
    "                        if known_costs<=new_costs:\n",
    "                            remove_new_paths.append(path)\n",
    "                            break\n",
    "                        else:\n",
    "                            remove_queue_paths.append(known_path)\n",
    "\n",
    "                    else:\n",
    "                        continue\n",
    "\n",
    "            \n",
    "            for path in remove_queue_paths:\n",
    "                queue.remove(path)\n",
    "\n",
    "            for path in remove_new_paths:\n",
    "                new_paths.remove(path)\n",
    "\n",
    "            # Add the new paths, if any, to the queue\n",
    "            if new_paths:\n",
    "                for new_path in new_paths:\n",
    "                    queue.append(new_path)\n",
    "                    \n",
    "            # Sort all paths by their accumulated costs\n",
    "            all_costs = [self.pathCosts(graph, path) for path in queue]\n",
    "\n",
    "            queue = [path for _,path in sorted(zip(all_costs,queue), key=lambda pair: pair[0])]\n",
    "            \n",
    "        return queue[0]           "
   ]
  },
  {
   "cell_type": "markdown",
   "metadata": {},
   "source": [
    "### 4.3 Other Routing Algorithms"
   ]
  },
  {
   "cell_type": "markdown",
   "metadata": {},
   "source": [
    "Before the Dijkstra routing algorithm is put to the test, the following template helps you to implement the other routing algorithms from the lecture. You can proceed by implementing any number of the prepared routing algorithms or maybe develope your own! Make sure to use all the available functionalities from the graph class and stick to the wordly explanations on the lecture slides if you can not implement everything yourself.\n",
    "\n",
    "Have fun and good luck with this little exercise!"
   ]
  },
  {
   "cell_type": "code",
   "execution_count": 16,
   "metadata": {},
   "outputs": [],
   "source": [
    "# These are exercises left for you to try! They will help you to understand more about the topic.\n",
    "# Tip: Use the lecture slides to implement the different routing algorithms. Feel free to adapt structures from\n",
    "# the dijkstra implementation\n",
    "\n",
    "class breadthFirstRoutingEngine(RoutingEngine):\n",
    "    \n",
    "    # Breadth first does not use any cost function. We still have to implement the abstract method from RoutingEngine\n",
    "    def pathCosts(self, graph, path):\n",
    "        # You dont have to change anything here\n",
    "        return 0\n",
    "    \n",
    "    def route(self, graph, origin, destination):\n",
    "        \n",
    "        # Check if origin and destination exist in the graph \n",
    "        if(not(origin in graph.nodes and destination in graph.nodes)):\n",
    "            raise Exception(\"Origin and or destination are not part of the Graph\")\n",
    "\n",
    "        # From a one-element queue consisting of a zero-length path that contains only the root node\n",
    "        queue = [[origin]]\n",
    "\n",
    "        # Until the first path in the queue terminates at the goal node ...\n",
    "        while queue[0][-1]!=destination:\n",
    "                \n",
    "                # ... or the queue is empty\n",
    "                if(len(queue)==0):\n",
    "                    # Announce failure\n",
    "                    raise Exception(\"Could not find a path between origin and destination. Check your graph!\")\n",
    "    \n",
    "                # Remove the first path from the queue\n",
    "                current_path = queue.pop(0)\n",
    "    \n",
    "                # Create new paths by extending the first path to all the neighbors of the terminal node\n",
    "                new_paths = []\n",
    "                terminal_node = current_path[-1]\n",
    "    \n",
    "                for neighbor in graph.getNeighbors(terminal_node):\n",
    "                    if neighbor not in current_path:\n",
    "                        new_paths.append(current_path+[neighbor])\n",
    "\n",
    "                # Add the new paths, if any, to the queue\n",
    "                if new_paths:\n",
    "                    for new_path in new_paths:\n",
    "                        queue.append(new_path)\n",
    "\n",
    "        return queue[0]\n",
    "       \n",
    "\n",
    "class depthFirstRoutingEngine(RoutingEngine):\n",
    "    \n",
    "    # Depth First does not use any cost function. We still have to implement the abstract method from RoutingEngine\n",
    "    def pathCosts(self, graph, path):\n",
    "        # You dont have to change anything here\n",
    "        return 0\n",
    "\n",
    "    # define route for depth first\n",
    "        \n",
    "    def route(self, graph, origin, destination):\n",
    "        \n",
    "        # Check if origin and destination exist in the graph \n",
    "        if(not(origin in graph.nodes and destination in graph.nodes)):\n",
    "            raise Exception(\"Origin and or destination are not part of the Graph\")\n",
    "\n",
    "        # From a one-element queue consisting of a zero-length path that contains only the root node\n",
    "        queue = [[origin]]\n",
    "\n",
    "        # Until the first path in the queue terminates at the goal node ...\n",
    "        while queue[0][-1]!=destination:\n",
    "                \n",
    "                # ... or the queue is empty\n",
    "                if(len(queue)==0):\n",
    "                    # Announce failure\n",
    "                    raise Exception(\"Could not find a path between origin and destination. Check your graph!\")\n",
    "    \n",
    "                # Remove the first path from the queue\n",
    "                current_path = queue.pop(0)\n",
    "    \n",
    "                # Create new paths by extending the first path to all the neighbors of the terminal node\n",
    "                new_paths = []\n",
    "                terminal_node = current_path[-1]\n",
    "    \n",
    "                for neighbor in graph.getNeighbors(terminal_node):\n",
    "                    if neighbor not in current_path:\n",
    "                        new_paths.append(current_path+[neighbor])\n",
    "\n",
    "                # Add the new paths, if any, to the queue\n",
    "                if new_paths:\n",
    "                    for new_path in new_paths:\n",
    "                        queue.insert(0, new_path)\n",
    "\n",
    "        return queue[0]\n",
    "    \n",
    "class bestFirstRoutingEngine(RoutingEngine):\n",
    "    \n",
    "    def pathCosts(self, graph, path):\n",
    "            \n",
    "        costs = 0\n",
    "        \n",
    "        # If the path is at least two nodes long\n",
    "        if(len(path)>1):\n",
    "            # Using the Shortest Step Heuristic (shortest step to new terminal node is best)\n",
    "            graph_edge = graph.getEdgeByNodes(path[-1], path[-2])\n",
    "            costs = graph_edge.weight\n",
    "            \n",
    "        return costs\n",
    "        \n",
    "    def route(self, graph, origin, destination):\n",
    "        \n",
    "        # Check if origin and destination exist in the graph \n",
    "        if(not(origin in graph.nodes and destination in graph.nodes)):\n",
    "            raise Exception(\"Origin and or destination are not part of the Graph\")\n",
    "\n",
    "        # From a one-element queue consisting of a zero-length path that contains only the root node\n",
    "        queue = [[origin]]\n",
    "\n",
    "        # Until the first path in the queue terminates at the goal node ... for best first\n",
    "        while queue[0][-1]!=destination:\n",
    "                    \n",
    "                    # ... or the queue is empty\n",
    "                    if(len(queue)==0):\n",
    "                        # Announce failure\n",
    "                        raise Exception(\"Could not find a path between origin and destination. Check your graph!\")\n",
    "        \n",
    "                    # Remove the first path from the queue\n",
    "                    current_path = queue.pop(0)\n",
    "        \n",
    "                    # Create new paths by extending the first path to all the neighbors of the terminal node\n",
    "                    new_paths = []\n",
    "                    terminal_node = current_path[-1]\n",
    "        \n",
    "                    for neighbor in graph.getNeighbors(terminal_node):\n",
    "                        if neighbor not in current_path:\n",
    "                            new_paths.append(current_path+[neighbor])\n",
    "    \n",
    "                    # Add the new paths, if any, to the queue\n",
    "                    if new_paths:\n",
    "                        for new_path in new_paths:\n",
    "                            queue.append(new_path)\n",
    "    \n",
    "                    # Sort all paths by their accumulated costs\n",
    "                    all_costs = [self.pathCosts(graph, path) for path in queue]\n",
    "\n",
    "                    queue = [path for _,path in sorted(zip(all_costs,queue), key=lambda pair: pair[0])]\n",
    "\n",
    "        return queue[0]\n",
    "\n",
    "\n",
    "\n",
    "\n"
   ]
  },
  {
   "cell_type": "markdown",
   "metadata": {},
   "source": [
    "### 4.4 Let's Route"
   ]
  },
  {
   "cell_type": "markdown",
   "metadata": {},
   "source": [
    "Finally, the moment has come to test our program. If you have bothered to implement routing algorithms by yourself, you can also test your routing algorithms by changing the state of the \"ROUTING_ENGINE\" option. Remember, that in one of the earlier code snippets, origin and destination of your route have been defined. Change these by scrolling up. Also, feel free to cross check the results with google maps or any osm routing engine.\n",
    "\n",
    "If there are any differences in the recommended paths: Can you tell why these differences occur? Does the given distance still match the google/osm routing result? <- These are rhetorical questions, no need to write me an E-Mail as long as there are no systematic mistakes in this exercise."
   ]
  },
  {
   "cell_type": "code",
   "execution_count": 21,
   "metadata": {},
   "outputs": [
    {
     "data": {
      "image/png": "[encoded data removed]",
      "text/plain": [
       "<Figure size 640x480 with 1 Axes>"
      ]
     },
     "metadata": {},
     "output_type": "display_data"
    },
    {
     "name": "stdout",
     "output_type": "stream",
     "text": [
      "Total path length: 1.003692 km\n",
      "Routing took 0.689306 s\n"
     ]
    }
   ],
   "source": [
    "# Choose a rounting engine! Options are: \"dijkstra\", \"aStar\", \"breadthFirst\", \"depthFirst\", \"bestFirst\"\n",
    "ROUTING_ENGINE = \"dijkstra\"\n",
    "\n",
    "# Initialize our routing engine\n",
    "if ROUTING_ENGINE == \"dijkstra\":\n",
    "    re = dijkstraRoutingEngine()\n",
    "    \n",
    "elif ROUTING_ENGINE == \"depthFirst\":\n",
    "    re = bestFirstRoutingEngine()\n",
    "    \n",
    "elif ROUTING_ENGINE == \"breadthFirst\":\n",
    "    re = breadthFirstRoutingEngine()\n",
    "    \n",
    "elif ROUTING_ENGINE == \"depthFirst\":\n",
    "    re = depthFirstRoutingEngine()\n",
    "    \n",
    "else:\n",
    "    raise Exception(\"Please choose a valid routing engine\")\n",
    "\n",
    "# Used to measure time needed for routing\n",
    "start = time.time()\n",
    "\n",
    "# Perform the routing!\n",
    "path = re.route(G, origin, destination)\n",
    "\n",
    "# Visualize Results\n",
    "G.plot()\n",
    "G.plotPath(path)\n",
    "plt.scatter([origin.lon, destination.lon], [origin.lat, destination.lat], s = 100, color=\"r\")\n",
    "plt.show()\n",
    "\n",
    "# Print route summary\n",
    "print(\"Total path length: {:4f} km\".format(G.calculatePathLength(path)))\n",
    "print(\"Routing took {:4f} s\".format(time.time()-start))\n"
   ]
  },
  {
   "cell_type": "markdown",
   "metadata": {},
   "source": [
    "## Random Walk and GraphSage Embedding"
   ]
  },
  {
   "cell_type": "markdown",
   "metadata": {},
   "source": [
    "Update torch and install pytorch-geometric, if not already done."
   ]
  },
  {
   "cell_type": "code",
   "execution_count": null,
   "metadata": {},
   "outputs": [],
   "source": [
    "# uncomment these lines if you don't have the pytorch geometric library installed \n",
    "\n",
    "#!conda install pytorch==1.12.1\n",
    "#!conda install pyg -c pyg \n",
    "#!pip install node2vec"
   ]
  },
  {
   "cell_type": "markdown",
   "metadata": {},
   "source": [
    "### Generate the an example graph\n",
    "\n",
    "We generate a small graph, using the networkx python package. First the nodes are defined and get a feature, called \"cluster\". Afterwards the edges are defined, be aware, self edges( e.g. (1, 1)) need to be explictly defined to. This is skipped in this example.\n",
    "Afterwards some key characteristics of the graph are printed: the number of nodes, number of edges and the average degree of a node, meaning the average number of edges connected to a node."
   ]
  },
  {
   "cell_type": "code",
   "execution_count": 23,
   "metadata": {},
   "outputs": [
    {
     "ename": "ModuleNotFoundError",
     "evalue": "No module named 'torch_sparse'",
     "output_type": "error",
     "traceback": [
      "\u001b[1;31m---------------------------------------------------------------------------\u001b[0m",
      "\u001b[1;31mModuleNotFoundError\u001b[0m                       Traceback (most recent call last)",
      "Cell \u001b[1;32mIn [23], line 5\u001b[0m\n\u001b[0;32m      2\u001b[0m \u001b[39mfrom\u001b[39;00m \u001b[39msklearn\u001b[39;00m\u001b[39m.\u001b[39;00m\u001b[39mmanifold\u001b[39;00m \u001b[39mimport\u001b[39;00m TSNE\n\u001b[0;32m      4\u001b[0m \u001b[39m# These two packages are for graph-data loading and preparation\u001b[39;00m\n\u001b[1;32m----> 5\u001b[0m \u001b[39mfrom\u001b[39;00m \u001b[39mtorch_geometric\u001b[39;00m\u001b[39m.\u001b[39;00m\u001b[39mdatasets\u001b[39;00m \u001b[39mimport\u001b[39;00m Planetoid\n\u001b[0;32m      6\u001b[0m \u001b[39mfrom\u001b[39;00m \u001b[39mtorch_geometric\u001b[39;00m\u001b[39m.\u001b[39;00m\u001b[39mtransforms\u001b[39;00m \u001b[39mimport\u001b[39;00m NormalizeFeatures\n\u001b[0;32m      8\u001b[0m \u001b[39m# Pytorch and pytorch geometric for graph convolutional networks\u001b[39;00m\n",
      "File \u001b[1;32m~\\AppData\\Local\\Packages\\PythonSoftwareFoundation.Python.3.10_qbz5n2kfra8p0\\LocalCache\\local-packages\\Python310\\site-packages\\torch_geometric\\__init__.py:4\u001b[0m\n\u001b[0;32m      1\u001b[0m \u001b[39mfrom\u001b[39;00m \u001b[39mtypes\u001b[39;00m \u001b[39mimport\u001b[39;00m ModuleType\n\u001b[0;32m      2\u001b[0m \u001b[39mfrom\u001b[39;00m \u001b[39mimportlib\u001b[39;00m \u001b[39mimport\u001b[39;00m import_module\n\u001b[1;32m----> 4\u001b[0m \u001b[39mimport\u001b[39;00m \u001b[39mtorch_geometric\u001b[39;00m\u001b[39m.\u001b[39;00m\u001b[39mdata\u001b[39;00m\n\u001b[0;32m      5\u001b[0m \u001b[39mimport\u001b[39;00m \u001b[39mtorch_geometric\u001b[39;00m\u001b[39m.\u001b[39;00m\u001b[39mloader\u001b[39;00m\n\u001b[0;32m      6\u001b[0m \u001b[39mimport\u001b[39;00m \u001b[39mtorch_geometric\u001b[39;00m\u001b[39m.\u001b[39;00m\u001b[39mtransforms\u001b[39;00m\n",
      "File \u001b[1;32m~\\AppData\\Local\\Packages\\PythonSoftwareFoundation.Python.3.10_qbz5n2kfra8p0\\LocalCache\\local-packages\\Python310\\site-packages\\torch_geometric\\data\\__init__.py:1\u001b[0m\n\u001b[1;32m----> 1\u001b[0m \u001b[39mfrom\u001b[39;00m \u001b[39m.\u001b[39;00m\u001b[39mdata\u001b[39;00m \u001b[39mimport\u001b[39;00m Data\n\u001b[0;32m      2\u001b[0m \u001b[39mfrom\u001b[39;00m \u001b[39m.\u001b[39;00m\u001b[39mhetero_data\u001b[39;00m \u001b[39mimport\u001b[39;00m HeteroData\n\u001b[0;32m      3\u001b[0m \u001b[39mfrom\u001b[39;00m \u001b[39m.\u001b[39;00m\u001b[39mtemporal\u001b[39;00m \u001b[39mimport\u001b[39;00m TemporalData\n",
      "File \u001b[1;32m~\\AppData\\Local\\Packages\\PythonSoftwareFoundation.Python.3.10_qbz5n2kfra8p0\\LocalCache\\local-packages\\Python310\\site-packages\\torch_geometric\\data\\data.py:20\u001b[0m\n\u001b[0;32m     18\u001b[0m \u001b[39mimport\u001b[39;00m \u001b[39mtorch\u001b[39;00m\n\u001b[0;32m     19\u001b[0m \u001b[39mfrom\u001b[39;00m \u001b[39mtorch\u001b[39;00m \u001b[39mimport\u001b[39;00m Tensor\n\u001b[1;32m---> 20\u001b[0m \u001b[39mfrom\u001b[39;00m \u001b[39mtorch_sparse\u001b[39;00m \u001b[39mimport\u001b[39;00m SparseTensor\n\u001b[0;32m     22\u001b[0m \u001b[39mfrom\u001b[39;00m \u001b[39mtorch_geometric\u001b[39;00m\u001b[39m.\u001b[39;00m\u001b[39mdata\u001b[39;00m\u001b[39m.\u001b[39;00m\u001b[39mfeature_store\u001b[39;00m \u001b[39mimport\u001b[39;00m (\n\u001b[0;32m     23\u001b[0m     FeatureStore,\n\u001b[0;32m     24\u001b[0m     FeatureTensorType,\n\u001b[0;32m     25\u001b[0m     TensorAttr,\n\u001b[0;32m     26\u001b[0m     _field_status,\n\u001b[0;32m     27\u001b[0m )\n\u001b[0;32m     28\u001b[0m \u001b[39mfrom\u001b[39;00m \u001b[39mtorch_geometric\u001b[39;00m\u001b[39m.\u001b[39;00m\u001b[39mdata\u001b[39;00m\u001b[39m.\u001b[39;00m\u001b[39mgraph_store\u001b[39;00m \u001b[39mimport\u001b[39;00m (\n\u001b[0;32m     29\u001b[0m     EDGE_LAYOUT_TO_ATTR_NAME,\n\u001b[0;32m     30\u001b[0m     EdgeAttr,\n\u001b[1;32m   (...)\u001b[0m\n\u001b[0;32m     34\u001b[0m     edge_tensor_type_to_adj_type,\n\u001b[0;32m     35\u001b[0m )\n",
      "\u001b[1;31mModuleNotFoundError\u001b[0m: No module named 'torch_sparse'"
     ]
    }
   ],
   "source": [
    "# The TSNE function is used to visualize high dimensional data\n",
    "from sklearn.manifold import TSNE\n",
    "\n",
    "# These two packages are for graph-data loading and preparation\n",
    "from torch_geometric.datasets import Planetoid\n",
    "from torch_geometric.transforms import NormalizeFeatures\n",
    "\n",
    "# Pytorch and pytorch geometric for graph convolutional networks\n",
    "from torch_geometric.nn import GCNConv\n",
    "import torch\n",
    "import torch.nn.functional as F"
   ]
  },
  {
   "cell_type": "code",
   "execution_count": null,
   "metadata": {},
   "outputs": [],
   "source": [
    "#Initialize the graph\n",
    "G = nx.Graph(name='G')\n",
    "\n",
    "#Create nodes\n",
    "#In this example, the graph will consist of 6 nodes.\n",
    "#Each node is assigned node feature which corresponds to the node name\n",
    "for i in range(1, 9):\n",
    "    if(i<=3):\n",
    "        G.add_node(i, cluster=1)\n",
    "    elif(i>=7):\n",
    "        G.add_node(i, cluster=3)\n",
    "    else:\n",
    "        G.add_node(i, cluster=2)\n",
    "\n",
    "#Define the edges and the edges to the graph\n",
    "edges = [(1,2),(2,3),(3,4),(4,5),(5,6),(3,7),(4,7),(7,8)]\n",
    "G.add_edges_from(edges)\n",
    "\n",
    "\n",
    "#See graph info\n",
    "print('Graph Info:\\n', nx.info(G))\n",
    "\n",
    "#Inspect the node features\n",
    "print('\\nGraph Nodes: ', G.nodes.data())\n",
    "\n",
    "#Plot the graph\n",
    "labels = nx.get_node_attributes(G, 'cluster') \n",
    "nx.draw(G, with_labels=True, labels=labels, font_weight='bold')\n",
    "plt.show()"
   ]
  },
  {
   "cell_type": "markdown",
   "metadata": {},
   "source": [
    "### Generate a random graph\n",
    "To show the possibilities of node embedding a random graph is used. This graph is created by the networkx library. The graph is loosely connected with a social graph, where there are l-differents cliques with each k people. Every clique has one node per other clique, that is connected and this the only connection between these cliques."
   ]
  },
  {
   "cell_type": "code",
   "execution_count": null,
   "metadata": {},
   "outputs": [],
   "source": [
    "#Initialize the graph\n",
    "l = 3  # number of cliques\n",
    "k = 10  # clique size\n",
    "G = nx.connected_caveman_graph(l, k)\n",
    "\n",
    "#See graph info\n",
    "print('Graph Info:\\n', nx.info(G))\n",
    "\n",
    "#Inspect the node features\n",
    "#print('\\nGraph Nodes: ', G.nodes.data())\n",
    "\n",
    "#Plot the graph\n",
    "nx.draw(G, font_weight='bold')\n",
    "plt.show()\n"
   ]
  },
  {
   "cell_type": "markdown",
   "metadata": {},
   "source": [
    "### The Node2Vec Algorithm\n",
    "The node2vec package includes RandomWalk and GraphSage based algorithms. The name node2vec refers to the source of these techniques, Natural Language Processing. The GrpahSage algorithm wa development n the field of NLP as part of the word2vec- algorithm family. Therefore the general node embedding was named node2vec.\n",
    "The first Step is to create a sequence of random, fixed length walks and tell the model the number of embedding dimensions"
   ]
  },
  {
   "cell_type": "code",
   "execution_count": null,
   "metadata": {},
   "outputs": [],
   "source": [
    "node2vec = Node2Vec(G, dimensions=2, walk_length=5, num_walks=300, workers=1)"
   ]
  },
  {
   "cell_type": "markdown",
   "metadata": {},
   "source": [
    "The sequene of random walks is stored within the walks attribute of the model and can be manipulated. Afterwards the model needs to be trained. "
   ]
  },
  {
   "cell_type": "code",
   "execution_count": null,
   "metadata": {},
   "outputs": [],
   "source": [
    "print(node2vec.walks[:3])\n",
    "model = node2vec.fit()"
   ]
  },
  {
   "cell_type": "code",
   "execution_count": null,
   "metadata": {},
   "outputs": [],
   "source": [
    "# List of the first embedding dimension\n",
    "embeddingsX = []\n",
    "# List of the second embedding dimension\n",
    "embeddingsY = []\n",
    "# The model identifies the nodes by strings, in this case their id.\n",
    "for i in range(0, k*l):\n",
    "    # The embeddings are stored in the wv-attribtute. The naming again is caused by the origin in NLP (wv=wordvector)\n",
    "    embeddingsX.append(model.wv[str(i)][0])\n",
    "    embeddingsY.append(model.wv[str(i)][1])\n",
    "\n",
    "figure = plt.figure(figsize=(11, 9))\n",
    "ax = figure.add_subplot(111)\n",
    "ax.scatter(embeddingsX, embeddingsY, label=[range(1, 9)],  marker='o', c='b', s=30)\n",
    "\n"
   ]
  },
  {
   "cell_type": "code",
   "execution_count": null,
   "metadata": {},
   "outputs": [],
   "source": [
    "from sklearn.cluster import KMeans\n",
    "\n",
    "X = []\n",
    "for i in range(0, k*l):\n",
    "    X.append([model.wv[str(i)][0], model.wv[str(i)][1]])\n",
    "\n",
    "kmeans = KMeans(n_clusters=3).fit_predict(X)\n",
    "\n",
    "figure = plt.figure(figsize=(11, 9))\n",
    "ax = figure.add_subplot(111)\n",
    "#Getting unique labels\n",
    "u_labels = np.unique(kmeans)\n",
    " \n",
    "#plotting the results:\n",
    "for i in u_labels:\n",
    "    ind = [j for j, cluster in enumerate(kmeans) if cluster==i]\n",
    "    plt.scatter([embeddingsX[cluster] for cluster in ind] , [embeddingsY[cluster] for cluster in ind] , label = i)"
   ]
  },
  {
   "cell_type": "code",
   "execution_count": null,
   "metadata": {},
   "outputs": [],
   "source": [
    "# Helper function for visualization.\n",
    "%matplotlib inline\n",
    "\n",
    "def visualize(h, color):\n",
    "    z = TSNE(n_components=2).fit_transform(h.detach().cpu().numpy())\n",
    "\n",
    "    plt.figure(figsize=(10,10))\n",
    "    plt.xticks([])\n",
    "    plt.yticks([])\n",
    "\n",
    "    plt.scatter(z[:, 0], z[:, 1], s=70, c=color, cmap=\"Set2\")\n",
    "    plt.show()"
   ]
  },
  {
   "cell_type": "markdown",
   "metadata": {},
   "source": [
    "# Graph Convolutional Network with Pytorch"
   ]
  },
  {
   "cell_type": "markdown",
   "metadata": {},
   "source": [
    "### Data Loading    \n",
    "To build a meaningful GCN a sophisticated graph is needed. In this example we use the Cora dataset from `\"Revisiting Semi-Supervised Learning with Graph Embeddings\"\n",
    "    <https://arxiv.org/abs/1603.08861>`.\n",
    "Nodes represent  documents and edges represent citation links. Training and validation splits are also pre-given. "
   ]
  },
  {
   "cell_type": "code",
   "execution_count": null,
   "metadata": {},
   "outputs": [],
   "source": [
    "dataset = Planetoid(root='data/Planetoid', name='Cora', transform=NormalizeFeatures())\n",
    "\n",
    "print()\n",
    "print(f'Dataset: {dataset}:')\n",
    "print('======================')\n",
    "print(f'Number of graphs: {len(dataset)}')\n",
    "print(f'Number of features: {dataset.num_features}')\n",
    "print(f'Number of classes: {dataset.num_classes}')\n",
    "\n",
    "data = dataset[0]  # Get the first graph object.\n",
    "\n",
    "print()\n",
    "print(data)\n",
    "print('===========================================================================================================')\n",
    "\n",
    "# Gather some statistics about the graph.\n",
    "print(f'Number of nodes: {data.num_nodes}')\n",
    "print(f'Number of edges: {data.num_edges}')\n",
    "print(f'Average node degree: {data.num_edges / data.num_nodes:.2f}')\n",
    "print(f'Number of training nodes: {data.train_mask.sum()}')\n",
    "print(f'Training node label rate: {int(data.train_mask.sum()) / data.num_nodes:.2f}')\n",
    "print(f'Has isolated nodes: {data.has_isolated_nodes()}')\n",
    "print(f'Has self-loops: {data.has_self_loops()}')\n",
    "print(f'Is undirected: {data.is_undirected()}')"
   ]
  },
  {
   "cell_type": "markdown",
   "metadata": {},
   "source": [
    "From the CORA dataset documentation: (https://relational.fit.cvut.cz/dataset/CORA)\n",
    "The Cora dataset consists of 2708 scientific publications classified into one of seven classes. The citation network consists of 5429 links. Each publication in the dataset is described by a 0/1-valued word vector indicating the absence/presence of the corresponding word from the dictionary. The dictionary consists of 1433 unique words."
   ]
  },
  {
   "cell_type": "markdown",
   "metadata": {},
   "source": [
    "### The GCN  Model\n",
    "Next the Neural Network needs to be defined. For GCNs in pytorch, this happens the same way as with non graph based neural  networks. Just use the GCNConv class for the Layers."
   ]
  },
  {
   "cell_type": "code",
   "execution_count": null,
   "metadata": {},
   "outputs": [],
   "source": [
    "class GCN(torch.nn.Module):\n",
    "    def __init__(self, hidden_channels):\n",
    "        super().__init__()\n",
    "        self.conv1 = GCNConv(dataset.num_features, hidden_channels)\n",
    "        self.conv2 = GCNConv(hidden_channels, dataset.num_classes)\n",
    "\n",
    "    def forward(self, x, edge_index):\n",
    "        x = self.conv1(x, edge_index)\n",
    "        x = x.relu()\n",
    "        x = F.dropout(x, p=0.5, training=self.training)\n",
    "        x = self.conv2(x, edge_index)\n",
    "        return x\n",
    "\n",
    "model = GCN(hidden_channels=16)\n",
    "model.eval()\n",
    "print(model)"
   ]
  },
  {
   "cell_type": "markdown",
   "metadata": {},
   "source": [
    "In pytorch and graph neural networks, the convention is, that the node feature x represents the feature vector and the feature y represents the corresponding output vector, e.g. the class for a classification task."
   ]
  },
  {
   "cell_type": "code",
   "execution_count": null,
   "metadata": {},
   "outputs": [],
   "source": [
    "print(data.y)"
   ]
  },
  {
   "cell_type": "code",
   "execution_count": null,
   "metadata": {},
   "outputs": [],
   "source": [
    "out = model(data.x, data.edge_index)\n",
    "visualize(out, color=data.y)"
   ]
  },
  {
   "cell_type": "markdown",
   "metadata": {},
   "source": [
    "### Training\n",
    "For the training the usd optimizer and the loss function need to be defined."
   ]
  },
  {
   "cell_type": "code",
   "execution_count": null,
   "metadata": {},
   "outputs": [],
   "source": [
    "optimizer = torch.optim.Adam(model.parameters(), lr=0.01, weight_decay=5e-4)\n",
    "criterion = torch.nn.CrossEntropyLoss()\n",
    "\n",
    "def train():\n",
    "      model.train()\n",
    "      optimizer.zero_grad()  # Clear gradients.\n",
    "      out = model(data.x, data.edge_index)  # Perform a single forward pass.\n",
    "      loss = criterion(out[data.train_mask], data.y[data.train_mask])  # Compute the loss solely based on the training nodes.\n",
    "      loss.backward()  # Derive gradients.\n",
    "      optimizer.step()  # Update parameters based on gradients.\n",
    "      return loss\n",
    "\n",
    "def test():\n",
    "      model.eval()\n",
    "      out = model(data.x, data.edge_index)\n",
    "      pred = out.argmax(dim=1)  # Use the class with highest probability.\n",
    "      test_correct = pred[data.test_mask] == data.y[data.test_mask]  # Check against ground-truth labels.\n",
    "      test_acc = int(test_correct.sum()) / int(data.test_mask.sum())  # Derive ratio of correct predictions.\n",
    "      return test_acc\n",
    "\n",
    "\n",
    "for epoch in range(1, 101):\n",
    "    loss = train()\n",
    "    print(f'Epoch: {epoch:03d}, Loss: {loss:.4f}')"
   ]
  },
  {
   "cell_type": "code",
   "execution_count": null,
   "metadata": {},
   "outputs": [],
   "source": [
    "test_acc = test()\n",
    "print(f'Test Accuracy: {test_acc:.4f}')"
   ]
  },
  {
   "cell_type": "markdown",
   "metadata": {},
   "source": [
    "Now we can visualize the y-feature again and see the model output. The visualize function is a used helper function to visualize high-dimnesional output."
   ]
  },
  {
   "cell_type": "code",
   "execution_count": null,
   "metadata": {},
   "outputs": [],
   "source": [
    "model.eval()\n",
    "\n",
    "out = model(data.x, data.edge_index)\n",
    "visualize(out, color=data.y)"
   ]
  },
  {
   "cell_type": "code",
   "execution_count": null,
   "metadata": {},
   "outputs": [],
   "source": []
  }
 ],
 "metadata": {
  "kernelspec": {
   "display_name": "Python 3",
   "language": "python",
   "name": "python3"
  },
  "language_info": {
   "codemirror_mode": {
    "name": "ipython",
    "version": 3
   },
   "file_extension": ".py",
   "mimetype": "text/x-python",
   "name": "python",
   "nbconvert_exporter": "python",
   "pygments_lexer": "ipython3",
   "version": "3.10.9"
  },
  "vscode": {
   "interpreter": {
    "hash": "9aff9e50adfaa9e30c910fb3872ffdc72747acb5f50803ca0504f00e980f7c25"
   }
  }
 },
 "nbformat": 4,
 "nbformat_minor": 2
}
