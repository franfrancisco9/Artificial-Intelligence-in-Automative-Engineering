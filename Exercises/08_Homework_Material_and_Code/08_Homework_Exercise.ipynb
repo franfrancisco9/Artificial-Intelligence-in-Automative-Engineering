{
 "cells": [
  {
   "cell_type": "markdown",
   "id": "3f923ef4",
   "metadata": {},
   "source": [
    "# Homework 8: CNN"
   ]
  },
  {
   "cell_type": "markdown",
   "id": "fd835ea7",
   "metadata": {},
   "source": [
    "You want to train the network to classify CIFAR-10 dataset that consists of 60000 color (3-channel) images of size 32x32 px. Create the network with the following specifications:\n",
    "- Layer 1:\n",
    "    - Name: conv1\n",
    "    - Convolutional Layer (number_of_filters=16, filter_size=3x3, padding=1, stride=1)\n",
    "    - ReLU activation\n",
    "    - Max Pooling (kernel_size=2, stride=2)\n",
    "- Layer 2:\n",
    "    - Name: conv2\n",
    "    - Convolutional Layer (number_of_filters=32, filter_size=3x3, padding=1, stride=1)\n",
    "    - ReLU activation\n",
    "    - Max Pooling (kernel_size=2, stride=2)\n",
    "- Layer 3:\n",
    "    - Name: conv3\n",
    "    - Convolutional Layer (number_of_filters=64, filter_size=3x3, padding=1, stride=1)\n",
    "    - ReLU activation\n",
    "    - Max Pooling (kernel_size=2, stride=2)\n",
    "\n",
    "- Layer 4:\n",
    "    - Name: fc1\n",
    "    - Linear Layer (FCN) (number_of_neurons=500)\n",
    "    - ReLU activation\n",
    "- Layer 5:\n",
    "    - Name: fc2\n",
    "    - Linear Layer (FCN) (number_of_neurons=1)\n",
    "    - Sigmoid activation\n",
    "    \n",
    "The model has to contain both `__init__` constructor and `forward()` methods."
   ]
  },
  {
   "cell_type": "code",
   "execution_count": 1,
   "id": "97410eed",
   "metadata": {},
   "outputs": [
    {
     "name": "stdout",
     "output_type": "stream",
     "text": [
      "KINet(\n",
      "  (conv1): Conv2d(3, 16, kernel_size=(3, 3), stride=(1, 1), padding=(1, 1))\n",
      "  (relu1): ReLU()\n",
      "  (pool1): MaxPool2d(kernel_size=2, stride=2, padding=0, dilation=1, ceil_mode=False)\n",
      "  (conv2): Conv2d(16, 32, kernel_size=(3, 3), stride=(1, 1), padding=(1, 1))\n",
      "  (relu2): ReLU()\n",
      "  (pool2): MaxPool2d(kernel_size=2, stride=2, padding=0, dilation=1, ceil_mode=False)\n",
      "  (conv3): Conv2d(32, 64, kernel_size=(3, 3), stride=(1, 1), padding=(1, 1))\n",
      "  (relu3): ReLU()\n",
      "  (pool3): MaxPool2d(kernel_size=2, stride=2, padding=0, dilation=1, ceil_mode=False)\n",
      "  (fc1): Linear(in_features=1024, out_features=500, bias=True)\n",
      "  (relu4): ReLU()\n",
      "  (fc2): Linear(in_features=500, out_features=1, bias=True)\n",
      ")\n"
     ]
    }
   ],
   "source": [
    "import torch\n",
    "import torch.nn as nn\n",
    "import torch.nn.functional as F\n",
    "\n",
    "torch.manual_seed(7)\n",
    "network_input = torch.randn((1, 3, 32, 32))\n",
    "\n",
    "class KINet(nn.Module):\n",
    "    def __init__(self):\n",
    "        super(KINet, self).__init__()\n",
    "        \n",
    "        # The following website can help to calculate the dimensions.\n",
    "        # https://madebyollin.github.io/convnet-calculator/\n",
    "        # - Layer 1:\n",
    "        # - Name: conv1\n",
    "        # - Convolutional Layer (number_of_filters=16, filter_size=3x3, padding=1, stride=1)\n",
    "        # - ReLU activation\n",
    "        # - Max Pooling (kernel_size=2, stride=2)\n",
    "        # YOU CAN MAKE YOUR CHANGES HERE:\n",
    "        # conv1 \n",
    "        self.conv1 = nn.Conv2d(in_channels=3, out_channels=16, kernel_size=3, stride=1, padding=1)\n",
    "        self.relu1 = nn.ReLU()\n",
    "        self.pool1 = nn.MaxPool2d(kernel_size=2, stride=2)\n",
    "        # - Layer 2:\n",
    "        # - Name: conv2\n",
    "        # - Convolutional Layer (number_of_filters=32, filter_size=3x3, padding=1, stride=1)\n",
    "        # - ReLU activation\n",
    "        # - Max Pooling (kernel_size=2, stride=2)\n",
    "        # conv2\n",
    "        self.conv2 = nn.Conv2d(in_channels=16, out_channels=32, kernel_size=3, stride=1, padding=1)\n",
    "        self.relu2 = self.relu1\n",
    "        self.pool2 = self.pool1\n",
    "        # - Layer 3:\n",
    "        # - Name: conv3\n",
    "        # - Convolutional Layer (number_of_filters=64, filter_size=3x3, padding=1, stride=1)\n",
    "        # - ReLU activation\n",
    "        # - Max Pooling (kernel_size=2, stride=2)\n",
    "        # conv3\n",
    "        self.conv3 = nn.Conv2d(in_channels=32, out_channels=64, kernel_size=3, stride=1, padding=1) \n",
    "        self.relu3 = self.relu1\n",
    "        self.pool3 = self.pool1\n",
    "        # - Layer 4:\n",
    "        # - Name: fc1\n",
    "        # - Linear Layer (FCN) (number_of_neurons=500)\n",
    "        # - ReLU activation\n",
    "        # fc1\n",
    "        # the number of in features is 64*4*4 because the input is 32x32 and we have 3 max pooling layers with kernel size 2 and stride 2\n",
    "        # so the output of the last convolutional layer is 32/2/2/2 = 4\n",
    "        # and we have 64 filters so the number of in features is 64*4*4\n",
    "        \n",
    "        self.fc1 = nn.Linear(in_features=64*4*4, out_features=500)\n",
    "        self.relu4 = self.relu1\n",
    "        # - Layer 5:\n",
    "        # - Name: fc2\n",
    "        # - Linear Layer (FCN) (number_of_neurons=1)\n",
    "        # - Sigmoid activation\n",
    "        # fc2\n",
    "        self.fc2 = nn.Linear(in_features=500, out_features=1)\n",
    "        \n",
    "        # STOP WITH CHANGES HERE.\n",
    "\n",
    "    def forward(self, x):\n",
    "        \n",
    "        # YOU CAN MAKE YOUR CHANGES HERE:\n",
    "        x = self.pool1(self.relu1(self.conv1(x)))\n",
    "        x = self.pool2(self.relu2(self.conv2(x)))\n",
    "        x = self.pool3(self.relu3(self.conv3(x)))\n",
    "        x = x.view(-1, 64*4*4)\n",
    "        x = self.relu4(self.fc1(x))\n",
    "        x = self.fc2(x)\n",
    "        # STOP WITH CHANGES HERE.\n",
    "        return x\n",
    "    \n",
    "# This will generate the network model and print out the details.\n",
    "model = KINet()\n",
    "print(model)"
   ]
  },
  {
   "cell_type": "code",
   "execution_count": 2,
   "id": "4785ac1d",
   "metadata": {},
   "outputs": [
    {
     "name": "stdout",
     "output_type": "stream",
     "text": [
      "536585\n"
     ]
    }
   ],
   "source": [
    "# TOTAL NUMBER OF NETWORK PARAMETERS.\n",
    "# DO NOT CHANGE ANYTHING HERE.\n",
    "pytorch_total_params = sum(p.numel() for p in model.parameters() if p.requires_grad)\n",
    "print(pytorch_total_params)"
   ]
  },
  {
   "cell_type": "code",
   "execution_count": 3,
   "id": "257edf6f",
   "metadata": {},
   "outputs": [
    {
     "name": "stdout",
     "output_type": "stream",
     "text": [
      "tensor([[0.0517]], grad_fn=<AddmmBackward0>)\n"
     ]
    }
   ],
   "source": [
    "# FINAL OUTPUT OF THE NETWORK\n",
    "# DO NOT CHANGE ANYTHING HERE.\n",
    "# If the network was properly coded, you will receive the answer in form\n",
    "# of the following number \"[[X.XXXX]]\".\n",
    "network_output = model(network_input)\n",
    "print(network_output)"
   ]
  }
 ],
 "metadata": {
  "kernelspec": {
   "display_name": "Python 3",
   "language": "python",
   "name": "python3"
  },
  "language_info": {
   "codemirror_mode": {
    "name": "ipython",
    "version": 3
   },
   "file_extension": ".py",
   "mimetype": "text/x-python",
   "name": "python",
   "nbconvert_exporter": "python",
   "pygments_lexer": "ipython3",
   "version": "3.10.9"
  },
  "vscode": {
   "interpreter": {
    "hash": "9aff9e50adfaa9e30c910fb3872ffdc72747acb5f50803ca0504f00e980f7c25"
   }
  }
 },
 "nbformat": 4,
 "nbformat_minor": 5
}
