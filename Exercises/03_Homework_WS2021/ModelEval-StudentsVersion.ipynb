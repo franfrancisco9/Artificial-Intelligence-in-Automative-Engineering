{
 "cells": [
  {
   "cell_type": "markdown",
   "metadata": {},
   "source": [
    "## Task: Model evaluation\n",
    "\n",
    "You have been given a linear regression model with polynomial basis functions. The coefficients are given as w0, w1 and w2. The mathematical description of the formular looks as the following:\n",
    "\n",
    "$$ y = w_0 + w_1x + w_2x $$\n",
    "\n",
    "Question 1: You shall now programm a function, which evaluates the model prediction for arbitrary input data points. The input vector x for the data points can hold arbitrary many datapoints and is organized in form of a row vector. The parameter input is organized in form of a vector holding w0, w1 and w2 in this order. The function shall return the predicted output values based on the model. \n",
    "\n",
    "Test cases: There is one test case. It is given below. You can check if your code fulfills the requirements by running the cell. It will output a true in case that the code matches the test case and a false otherwise. \n",
    "\n",
    "Question 2: In the Moodle test there are give values for x, w_0, w_1,w_2 and $\\hat{y}$. Is the give $\\hat{y}$ equal to the model prediction y?"
   ]
  },
  {
   "cell_type": "code",
   "execution_count": 5,
   "metadata": {},
   "outputs": [],
   "source": [
    "# define model weights \n",
    "w = [1,0,1];\n",
    "# define sample points\n",
    "x = [0,1,2,3,4,5]; "
   ]
  },
  {
   "cell_type": "code",
   "execution_count": 13,
   "metadata": {},
   "outputs": [],
   "source": [
    "# implement the function evalModel\n",
    "# it should evaluate the model given in the task \n",
    "# \n",
    "def evalModel(w, x):\n",
    "    # evaluates the model prediction for arbitrary input x\n",
    "    # w: model weights\n",
    "    # x: input vector\n",
    "    # return: model prediction\n",
    "    ypred = []\n",
    "    for value in x:\n",
    "        ypred.append(w[0] + w[1]*value + w[2]*value**2)\n",
    "\n",
    "    return ypred; "
   ]
  },
  {
   "cell_type": "code",
   "execution_count": 7,
   "metadata": {},
   "outputs": [
    {
     "name": "stdout",
     "output_type": "stream",
     "text": [
      "True\n"
     ]
    }
   ],
   "source": [
    "ypred_true = [1,3,7,13,21,31]; \n",
    "w = [1,1,1]; \n",
    "x = [0, 1, 2, 3, 4, 5]; \n",
    "print(evalModel(w, x)==ypred_true)"
   ]
  },
  {
   "cell_type": "code",
   "execution_count": 15,
   "metadata": {},
   "outputs": [
    {
     "name": "stdout",
     "output_type": "stream",
     "text": [
      "False\n",
      "[9257, 27994, 1006, 17137, 12506, 1786, 22494, 24622, 18526, 18526, 25169, 2257, 94, 1937, 9594, 57, 25169, 3361, 5169, 57, 13697, 12121, 1786, 3994, 19001, 11369, 1937, 25722, 8282, 26846]\n"
     ]
    }
   ],
   "source": [
    "# write your own test to answer the Moodle question\n",
    "\n",
    "x =[52, 93, 15, 72, 61, 21, 83, 87, 75, 75, 88, 24, 3, 22, 53, 2, 88, 30, 38, 2, 64, 60, 21, 33, 76, 58, 22, 89, 49, 91]\n",
    "\n",
    "w = [1,22,3]\n",
    "\n",
    "y_hat = [9257, 27994, 1007, 17137, 12506, 1786, 22494, 24622, 18526, 18526, 25169, 2257, 94, 1937, 9594, 57, 25169, 3361, 5169, 57, 13697, 12121, 1786, 3994, 19001, 11369, 1937, 25722, 8282, 26846]\n",
    "\n",
    "print(evalModel(w, x)==y_hat)\n",
    "print(evalModel(w, x))"
   ]
  },
  {
   "cell_type": "code",
   "execution_count": 6,
   "metadata": {},
   "outputs": [
    {
     "name": "stdout",
     "output_type": "stream",
     "text": [
      "24.91\n"
     ]
    }
   ],
   "source": [
    "# Question 1 from moodle:\n",
    "'''\n",
    "You have designed a regression model for a certain dataset. After evaluating your model, you find that you have the following model errors:\n",
    "\n",
    "Datapoint 1:  -2.8\n",
    "\n",
    "Datapoint 2:  2.6\n",
    "\n",
    "Datapoint 3:  2\n",
    "\n",
    "Datapoint 4:  -5.5\n",
    "\n",
    "Datapoint 5:  -8.7\n",
    "\n",
    "\n",
    "\n",
    "Question: Please calculate the mean L2 loss using the formula given in the lecture. Enter the result using two-digit precision behind the separator and using a dot as a separator (if you have configured moodle to be in english) or a comma as a separator (if you have configured moodle to be in german).\n",
    "'''\n",
    "\n",
    "# define mean L2 Loss\n",
    "def meanL2Loss(ey):\n",
    "    # calculates the mean L2 loss\n",
    "    # ey = y - ypred\n",
    "    # return: mean L2 loss\n",
    "    loss = 0\n",
    "    for i in range(len(ey)):\n",
    "        loss += ey[i]**2\n",
    "    return loss/len(ey)\n",
    "\n",
    "# save given error values:\n",
    "e_y = [-2.8, 2.6, 2, -5.5, -8.7]\n",
    "\n",
    "# calculate mean L2 loss with 2 digit precision\n",
    "print(round(meanL2Loss(e_y), 2))"
   ]
  },
  {
   "cell_type": "code",
   "execution_count": 9,
   "metadata": {},
   "outputs": [
    {
     "name": "stdout",
     "output_type": "stream",
     "text": [
      "30\n"
     ]
    }
   ],
   "source": [
    "# Question 2 from moodle:\n",
    "'''\n",
    "You are given a dataset with multiple independent variables and one dependent variable. \n",
    "The task is to design a regression model using Gaussian basis functions. \n",
    "A short check of the data shows that most of the variation can be explained by a single independent variable. \n",
    "You have been using 10 basis functions placed equally along this input dimension. \n",
    "If you would plan to consider two more independent variables, how many basis functions would you have to place in equal distance to each other \n",
    "to achieve a comparable coverage of the input space?\n",
    "'''\n",
    "\n",
    "# define number of gaussian basis functions necessary knowing the number of input dimensions and the number of basis functions for one input dimension\n",
    "def getNumberOfBasisFunctions(nInputDimensions, nBasisFunctions):\n",
    "    # calculates the number of basis functions needed for a given number of input dimensions\n",
    "    # nInputDimensions: number of input dimensions\n",
    "    # nBasisFunctions: number of basis functions for one input dimension\n",
    "    # return: number of basis functions needed for a given number of input dimensions\n",
    "    return nInputDimensions*nBasisFunctions\n",
    "\n",
    "# answer the question  If you would plan to consider two more independent variables, how many basis functions would you have to place in equal distance to each other to achieve a comparable coverage of the input space?\n",
    "print(getNumberOfBasisFunctions(3, 10))\n",
    "\n"
   ]
  },
  {
   "cell_type": "code",
   "execution_count": null,
   "metadata": {},
   "outputs": [],
   "source": [
    "# Question 3 from moodle:\n",
    "'''\n",
    "You are designing a  new vehicle and should evaluate the influence of mass and ride height on the fuel consumption. Your colleagues have gathered data which measure:\n",
    "\n",
    "the fuel consumption in liter per 100km\n",
    "the vehicle mass in kilogram\n",
    "the ride height in meter\n",
    "\n",
    "'''\n",
    "\n",
    "# define the data\n",
    "\n",
    "# fuel consumption in liter per 100km\n",
    "\n",
    "# vehicle mass in kilogram\n",
    "\n",
    "# ride height in meter\n",
    "\n",
    "# Question: Which one of the following specifies the right dependent and independent variables:\n",
    "\n",
    "# Answer 1: dependent variable: fuel consumption, independent variables: mass, ride height\n",
    "\n",
    "\n"
   ]
  },
  {
   "cell_type": "code",
   "execution_count": 11,
   "metadata": {},
   "outputs": [
    {
     "name": "stdout",
     "output_type": "stream",
     "text": [
      "7.64\n"
     ]
    }
   ],
   "source": [
    "# Question 4 from moodle:\n",
    "\n",
    "'''\n",
    "You have designed a regression model for a certain dataset. After evaluating your model, you find that you have the following model errors:\n",
    "\n",
    "Datapoint 1: 8.6\n",
    "\n",
    "Datapoint 2: 6.7\n",
    "\n",
    "Datapoint 3: -6.6\n",
    "\n",
    "Datapoint 4: -9.8\n",
    "\n",
    "Datapoint 5: 6.5\n",
    "\n",
    "\n",
    "\n",
    "Question: Please calculate the mean L1 loss using the formula given in the lecture. Enter the result using two-digit precision behind the separator and using a dot as a separator (if you have configured moodle to be in english) or a comma as a separator (if you have configured moodle to be in german).~\n",
    "'''\n",
    "\n",
    "# define mean L1 Loss\n",
    "def meanL1Loss(ey):\n",
    "    # calculates the mean L1 loss\n",
    "    # ey = y - ypred\n",
    "    # return: mean L1 loss\n",
    "    loss = 0\n",
    "    for i in range(len(ey)):\n",
    "        loss += abs(ey[i])\n",
    "    return loss/len(ey)\n",
    "\n",
    "# save given error values:\n",
    "e_y = [8.6, 6.7, -6.6, -9.8, 6.5]\n",
    "\n",
    "# calculate mean L1 loss with 2 digit precision\n",
    "print(round(meanL1Loss(e_y), 2))\n"
   ]
  },
  {
   "cell_type": "code",
   "execution_count": null,
   "metadata": {},
   "outputs": [],
   "source": []
  }
 ],
 "metadata": {
  "kernelspec": {
   "display_name": "Python 3.10.8 64-bit (microsoft store)",
   "language": "python",
   "name": "python3"
  },
  "language_info": {
   "codemirror_mode": {
    "name": "ipython",
    "version": 3
   },
   "file_extension": ".py",
   "mimetype": "text/x-python",
   "name": "python",
   "nbconvert_exporter": "python",
   "pygments_lexer": "ipython3",
   "version": "3.10.8"
  },
  "vscode": {
   "interpreter": {
    "hash": "9aff9e50adfaa9e30c910fb3872ffdc72747acb5f50803ca0504f00e980f7c25"
   }
  }
 },
 "nbformat": 4,
 "nbformat_minor": 4
}
